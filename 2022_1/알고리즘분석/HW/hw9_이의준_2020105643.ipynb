{
  "nbformat": 4,
  "nbformat_minor": 0,
  "metadata": {
    "colab": {
      "name": "hw9_이의준_2020105643.ipynb",
      "provenance": []
    },
    "kernelspec": {
      "name": "python3",
      "display_name": "Python 3"
    },
    "language_info": {
      "name": "python"
    }
  },
  "cells": [
    {
      "cell_type": "code",
      "source": [
        "import math\n",
        "\n",
        "class Heap(object):\n",
        "    n = 0\n",
        "\n",
        "    def __init__(self, data):\n",
        "        self.data = data\n",
        "        self.n = len(self.data) - 1 # heap size를 하나 줄여 인덱스는 1부터, 인덱스의 2* 연산을 가능하도록 함\n",
        "        self.h = int(math.log2(self.n))\n",
        "\n",
        "    def add_elem(self, elem):\n",
        "        self.data.append(elem)\n",
        "        self.n += 1\n",
        "        self.sift_up(self.n)\n",
        "\n",
        "    def _find_larger_child(self, parent_idx):\n",
        "        # 자식노드 확인\n",
        "        if (2*parent_idx <= self.n):\n",
        "            leftchild = self.data[2 * parent_idx]\n",
        "        else:\n",
        "            leftchild = -99999999    # None 대신 -99999999사용. 계산의 편의를 위해\n",
        "        if (2*parent_idx+1 <= self.n):\n",
        "            rightchild = self.data[2 * parent_idx + 1]\n",
        "        else:\n",
        "            rightchild = -99999999    # None 대신 -99999999사용. 계산의 편의를 위해\n",
        "\n",
        "        if (leftchild < rightchild):\n",
        "            largerchild = rightchild\n",
        "            largerchild_idx = 2*parent_idx+1\n",
        "        elif (leftchild > rightchild):\n",
        "            largerchild = leftchild\n",
        "            largerchild_idx = 2*parent_idx\n",
        "        else:   # parent가 단말 노드인 경우\n",
        "            largerchild = None\n",
        "            largerchild_idx = None\n",
        "\n",
        "        return largerchild, largerchild_idx\n",
        "\n",
        "    def sift_up(self, curr_idx):\n",
        "        while(curr_idx>=2):    # root가 아닌 경우\n",
        "            parent_idx = int(curr_idx/2)\n",
        "            parent = self.data[parent_idx]\n",
        "            curr = self.data[curr_idx]\n",
        "\n",
        "            if (parent < curr):\n",
        "                self.data[parent_idx] = curr\n",
        "                self.data[curr_idx] = parent\n",
        "                curr = self.data[parent_idx]\n",
        "                curr_idx = parent_idx\n",
        "            else:\n",
        "                break\n",
        "\n",
        "    def sift_down(self, parent_idx):\n",
        "        parent = self.data[parent_idx]\n",
        "\n",
        "        largerchild, largerchild_idx = self._find_larger_child(parent_idx)\n",
        "\n",
        "        while(largerchild != None and parent < largerchild):\n",
        "            self.data[parent_idx] = largerchild\n",
        "            self.data[largerchild_idx] = parent\n",
        "            parent = self.data[largerchild_idx]\n",
        "            parent_idx = largerchild_idx\n",
        "\n",
        "            largerchild, largerchild_idx = self._find_larger_child(parent_idx)\n",
        "            \n",
        "\n",
        "    def make_heap(self):\n",
        "        temp = self.data\n",
        "        iter = self.n+1\n",
        "        self.n = 0\n",
        "        self.data = [0]\n",
        "        for i in range (1, iter):\n",
        "            self.add_elem(temp[i])\n",
        "\n",
        "    def make_heap2(self):\n",
        "        for i in range(self.h-1, -1, -1):\n",
        "            for j in range(0, 2**i):\n",
        "                self.sift_down(2**i + j)\n",
        "\n",
        "    def root(self):\n",
        "        keyout = self.data[1]\n",
        "        self.data[1] = self.data[self.n]    # Raise the bottom node to the root node\n",
        "        self.n -= 1 # delete the bottom node\n",
        "        \n",
        "        if (self.n > 0):\n",
        "            self.sift_down(1)\n",
        "        \n",
        "        return keyout\n",
        "\n",
        "    def remove_keys(self):\n",
        "        s = []\n",
        "        for i in range(self.n, 0, -1):\n",
        "            s.append(self.root())\n",
        "\n",
        "        return s\n",
        "\n",
        "\n",
        "def heapsort(a, mode=2):\n",
        "    a = Heap(a)\n",
        "    if mode==1: # 첫 번째 방법\n",
        "        a.make_heap()\n",
        "    if mode==2: # 두 번째 방법\n",
        "        a.make_heap2()\n",
        "    s = a.remove_keys() \n",
        "\n",
        "    return s"
      ],
      "metadata": {
        "id": "mLFbRewsZBIh"
      },
      "execution_count": 64,
      "outputs": []
    },
    {
      "cell_type": "code",
      "source": [
        "########################## Q1 ################################\n",
        "print('########################## Q1 ################################')\n",
        "# 첫번째 방법으로 만든 make_heap\n",
        "# 인덱스를 간단히 하기 위해 a[0] = 0 추가\n",
        "a = [0, 11, 14, 2, 7, 6, 3, 9, 5]\n",
        "b = Heap(a)\n",
        "b.make_heap()\n",
        "print(b.data)\n",
        "b.add_elem(50)\n",
        "print(b.data)\n",
        "s = heapsort(a, mode=1)\n",
        "print(s)\n",
        "print()"
      ],
      "metadata": {
        "colab": {
          "base_uri": "https://localhost:8080/"
        },
        "id": "l_-KBd1Wp8AI",
        "outputId": "8e74134f-f826-4da4-fe1f-ffdced5198e4"
      },
      "execution_count": 65,
      "outputs": [
        {
          "output_type": "stream",
          "name": "stdout",
          "text": [
            "########################## Q1 ################################\n",
            "[0, 14, 11, 9, 7, 6, 2, 3, 5]\n",
            "[0, 50, 14, 9, 11, 6, 2, 3, 5, 7]\n",
            "[14, 11, 9, 7, 6, 5, 3, 2]\n",
            "\n"
          ]
        }
      ]
    },
    {
      "cell_type": "code",
      "execution_count": 66,
      "metadata": {
        "colab": {
          "base_uri": "https://localhost:8080/"
        },
        "id": "L9KLflnMYLGj",
        "outputId": "733f02aa-591e-4b13-bdf3-6bfb8feede7e"
      },
      "outputs": [
        {
          "output_type": "stream",
          "name": "stdout",
          "text": [
            "########################## Q2 ################################\n",
            "[0, 14, 11, 9, 7, 6, 3, 2, 5]\n",
            "[0, 50, 14, 9, 11, 6, 3, 2, 5, 7]\n",
            "[50, 14, 11, 9, 7, 6, 5, 3, 2]\n"
          ]
        }
      ],
      "source": [
        "########################## Q2 ################################\n",
        "print('########################## Q2 ################################')\n",
        "# 두번째 방법으로 만든 make_heap\n",
        "# 인덱스를 간단히 하기 위해 a[0] = 0 추가\n",
        "a = [0, 11, 14, 2, 7, 6, 3, 9, 5]\n",
        "b = Heap(a)\n",
        "b.make_heap2()\n",
        "print(b.data)\n",
        "b.add_elem(50)\n",
        "print(b.data)\n",
        "s = heapsort(a, mode=2)\n",
        "print(s)"
      ]
    },
    {
      "cell_type": "code",
      "source": [
        "# Test\n",
        "a = [0, 1, 2, 4, 3, 5, 6, 7, 9, 8, 100, 50]\n",
        "a1 = Heap(a)\n",
        "a1.make_heap()\n",
        "a2 = Heap(a)\n",
        "a2.make_heap2()\n",
        "print(a1.data, a2.data, sep='\\n')\n",
        "s = heapsort(a, mode=1)\n",
        "s2 = heapsort(a, mode=2)\n",
        "print(s, s2, sep='\\n')"
      ],
      "metadata": {
        "colab": {
          "base_uri": "https://localhost:8080/"
        },
        "id": "r5I-cc0drb-s",
        "outputId": "b390a00e-f538-49d2-bcc2-a3fb4a4dec23"
      },
      "execution_count": 71,
      "outputs": [
        {
          "output_type": "stream",
          "name": "stdout",
          "text": [
            "[0, 100, 50, 6, 7, 9, 2, 5, 1, 4, 3, 8]\n",
            "[0, 100, 50, 7, 9, 5, 6, 4, 3, 8, 1, 2]\n",
            "[100, 50, 9, 8, 7, 6, 5, 4, 3, 2, 1]\n",
            "[100, 50, 9, 8, 7, 6, 5, 4, 3, 2, 1]\n"
          ]
        }
      ]
    }
  ]
}