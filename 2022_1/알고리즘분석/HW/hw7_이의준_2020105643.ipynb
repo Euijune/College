{
  "nbformat": 4,
  "nbformat_minor": 0,
  "metadata": {
    "colab": {
      "name": "hw7_이의준_2020105643.ipynb",
      "provenance": []
    },
    "kernelspec": {
      "name": "python3",
      "display_name": "Python 3"
    },
    "language_info": {
      "name": "python"
    }
  },
  "cells": [
    {
      "cell_type": "code",
      "execution_count": 28,
      "metadata": {
        "id": "S_g--_t3mY6q"
      },
      "outputs": [],
      "source": [
        "######################## Q1 ########################\n",
        "\n",
        "def sum_of_subsets(indx, weight, total, include, W, node_num):\n",
        "    node_num[0] += 1\n",
        "\n",
        "    if promising(indx, weight, total):\n",
        "        if (weight == W):\n",
        "            print(include)  # 해 출력\n",
        "        else:\n",
        "            include[indx+1] = True\n",
        "            sum_of_subsets(indx+1, weight+w[indx+1], total-w[indx+1], include, W, node_num)   # w[indx+1] 포함\n",
        "            include[indx+1] = False\n",
        "            sum_of_subsets(indx+1, weight, total-w[indx+1], include, W, node_num)             # w[indx+1] 미포함\n",
        "\n",
        "def promising(indx, weight, total):\n",
        "    return (weight+total >= W) and (weight == W or weight+w[indx+1] <= W)"
      ]
    },
    {
      "cell_type": "code",
      "source": [
        "W = 15                  # 우리가 맞춰야 하는 무게\n",
        "w = [1, 2, 3, 4, 15]    # w[i]: i번째 원소의 무게, hw7의 1번문제의 집합 S와 동일하다.\n",
        "n = len(w)\n",
        "include = [False] * n   # include[i] = i번째 원소를 포함하는가?\n",
        "node_num = [0]          # 총 노드의 수\n",
        "\n",
        "total = 0\n",
        "for weight in w:\n",
        "    total += weight\n",
        "\n",
        "print('######################## Q1 ########################')\n",
        "sum_of_subsets(-1, 0, total, include, W, node_num)      # -1부터 시작해야 모든 노드를 탐색 가능하다.\n",
        "print(f'The number of nodes: {node_num[0]}')"
      ],
      "metadata": {
        "colab": {
          "base_uri": "https://localhost:8080/"
        },
        "id": "Jh5V_xNDoiuF",
        "outputId": "1cc1b86f-5df9-4092-ea68-d3e3333d49cf"
      },
      "execution_count": 29,
      "outputs": [
        {
          "output_type": "stream",
          "name": "stdout",
          "text": [
            "######################## Q1 ########################\n",
            "[False, False, False, False, True]\n",
            "The number of nodes: 33\n"
          ]
        }
      ]
    },
    {
      "cell_type": "code",
      "source": [
        "######################## Q2 ########################\n",
        "def m_coloring (indx, vcolor, W, n, m, node_num):\n",
        "    node_num[0] += 1\n",
        "\n",
        "    if promising(indx, vcolor, W):\n",
        "        if (indx == n-1):\n",
        "            print(vcolor)\n",
        "        else:\n",
        "            for color in range(1, m+1):\n",
        "                vcolor[indx+1] = color\n",
        "                m_coloring(indx+1, vcolor, W, n, m, node_num)            \n",
        "\n",
        "def promising(indx, vcolor, W):\n",
        "    switch = True\n",
        "    j = 0\n",
        "\n",
        "    while (j<indx and switch):\n",
        "        if W[indx][j] and vcolor[indx] == vcolor[j]:\n",
        "            switch = False\n",
        "            break\n",
        "        j += 1\n",
        "\n",
        "    return switch"
      ],
      "metadata": {
        "id": "4r9Bkcvotkgo"
      },
      "execution_count": 36,
      "outputs": []
    },
    {
      "cell_type": "code",
      "source": [
        "n = 5                   # 노드의 수\n",
        "m = 3                   # 색깔 가짓수\n",
        "vcolor = [0] * n        # vcolor[i] = i번째 노드의 색깔\n",
        "W = [                   # 인접 리스트\n",
        "     [0, 1, 1, 0, 1],\n",
        "     [1, 0, 1, 1, 0],\n",
        "     [1, 1, 0, 1, 0],\n",
        "     [0, 1, 1, 0, 1],\n",
        "     [1, 0, 0, 1, 0]\n",
        "]\n",
        "node_num = [0]          # 총 노드의 수\n",
        "\n",
        "print('######################## Q2 ########################')\n",
        "m_coloring(-1, vcolor, W, n, m, node_num)\n",
        "print(f'The number of nodes: {node_num[0]}')"
      ],
      "metadata": {
        "colab": {
          "base_uri": "https://localhost:8080/"
        },
        "id": "2SRJhRoetkXu",
        "outputId": "36cbaf82-b767-43fe-b035-2d5f34ff6155"
      },
      "execution_count": 38,
      "outputs": [
        {
          "output_type": "stream",
          "name": "stdout",
          "text": [
            "######################## Q2 ########################\n",
            "[1, 2, 3, 1, 2]\n",
            "[1, 2, 3, 1, 3]\n",
            "[1, 3, 2, 1, 2]\n",
            "[1, 3, 2, 1, 3]\n",
            "[2, 1, 3, 2, 1]\n",
            "[2, 1, 3, 2, 3]\n",
            "[2, 3, 1, 2, 1]\n",
            "[2, 3, 1, 2, 3]\n",
            "[3, 1, 2, 3, 1]\n",
            "[3, 1, 2, 3, 2]\n",
            "[3, 2, 1, 3, 1]\n",
            "[3, 2, 1, 3, 2]\n",
            "The number of nodes: 67\n"
          ]
        }
      ]
    }
  ]
}