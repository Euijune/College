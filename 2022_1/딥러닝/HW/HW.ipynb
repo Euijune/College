{
  "nbformat": 4,
  "nbformat_minor": 0,
  "metadata": {
    "colab": {
      "name": "HW.ipynb",
      "provenance": [],
      "collapsed_sections": [
        "6Iazb3qYcbWd",
        "uCTJEtBPceLg"
      ]
    },
    "kernelspec": {
      "name": "python3",
      "display_name": "Python 3"
    },
    "language_info": {
      "name": "python"
    }
  },
  "cells": [
    {
      "cell_type": "markdown",
      "source": [
        "## **HW01~HW03**"
      ],
      "metadata": {
        "id": "6Iazb3qYcbWd"
      }
    },
    {
      "cell_type": "code",
      "execution_count": null,
      "metadata": {
        "colab": {
          "base_uri": "https://localhost:8080/"
        },
        "id": "-iHMuOYB1BOl",
        "outputId": "3192d79e-5580-48a7-dd3f-67e288e310fb"
      },
      "outputs": [
        {
          "output_type": "stream",
          "name": "stdout",
          "text": [
            "0.6666666666666667\n"
          ]
        }
      ],
      "source": [
        "X = [2.0, 4.0, 6.0, 8.0]\n",
        "Y = [3.0, 4.0, 5.0, 6.0]\n",
        "b = 4.0\n",
        "w = 1/6\n",
        "\n",
        "sum = 0\n",
        "for x, y in zip(X, Y):\n",
        "    sum += (w * x + b - y) ** 2\n",
        "\n",
        "loss = sum / len(X)\n",
        "print(loss)"
      ]
    },
    {
      "cell_type": "code",
      "source": [
        "import numpy as np\n",
        "\n",
        "A = np.array([\n",
        "              [1,-2,3,5],\n",
        "              [2,2,-1,0],\n",
        "              [3,0,1,2],\n",
        "              [1,0,2,0]\n",
        "])\n",
        "\n",
        "print(\"2A\")\n",
        "print(2*A)\n",
        "print()\n",
        "print(\"A^T\")\n",
        "print(A.T)\n",
        "print()\n",
        "print(\"A^(-1)\")\n",
        "print(np.linalg.inv(A))"
      ],
      "metadata": {
        "colab": {
          "base_uri": "https://localhost:8080/"
        },
        "id": "UJfs3hH4_TDB",
        "outputId": "6374247e-5855-4c25-e121-8ba85613c52e"
      },
      "execution_count": null,
      "outputs": [
        {
          "output_type": "stream",
          "name": "stdout",
          "text": [
            "2A\n",
            "[[ 2 -4  6 10]\n",
            " [ 4  4 -2  0]\n",
            " [ 6  0  2  4]\n",
            " [ 2  0  4  0]]\n",
            "\n",
            "A^T\n",
            "[[ 1  2  3  1]\n",
            " [-2  2  0  0]\n",
            " [ 3 -1  1  2]\n",
            " [ 5  0  2  0]]\n",
            "\n",
            "A^(-1)\n",
            "[[-0.23529412 -0.23529412  0.58823529 -0.05882353]\n",
            " [ 0.29411765  0.79411765 -0.73529412  0.32352941]\n",
            " [ 0.11764706  0.11764706 -0.29411765  0.52941176]\n",
            " [ 0.29411765  0.29411765 -0.23529412 -0.17647059]]\n"
          ]
        }
      ]
    },
    {
      "cell_type": "code",
      "source": [
        "print(A @ np.linalg.inv(A))"
      ],
      "metadata": {
        "colab": {
          "base_uri": "https://localhost:8080/"
        },
        "id": "RqI9qmCsa2fU",
        "outputId": "44742ffa-f948-413d-ec33-28d11e1c5c25"
      },
      "execution_count": null,
      "outputs": [
        {
          "output_type": "stream",
          "name": "stdout",
          "text": [
            "[[ 1.00000000e+00  1.66533454e-16 -3.05311332e-16 -1.11022302e-16]\n",
            " [-8.32667268e-17  1.00000000e+00 -1.11022302e-16  0.00000000e+00]\n",
            " [ 1.11022302e-16  1.11022302e-16  1.00000000e+00  0.00000000e+00]\n",
            " [ 0.00000000e+00  0.00000000e+00  0.00000000e+00  1.00000000e+00]]\n"
          ]
        }
      ]
    },
    {
      "cell_type": "code",
      "source": [
        "print(np.linalg.inv(A) @ A)"
      ],
      "metadata": {
        "colab": {
          "base_uri": "https://localhost:8080/"
        },
        "id": "B73b3ekWbBqy",
        "outputId": "7490be45-543f-4b23-8d99-c2032f91632f"
      },
      "execution_count": null,
      "outputs": [
        {
          "output_type": "stream",
          "name": "stdout",
          "text": [
            "[[ 1.00000000e+00  0.00000000e+00  2.77555756e-17 -2.22044605e-16]\n",
            " [ 1.11022302e-16  1.00000000e+00 -1.11022302e-16 -2.22044605e-16]\n",
            " [ 1.11022302e-16  0.00000000e+00  1.00000000e+00  1.11022302e-16]\n",
            " [-1.38777878e-16  0.00000000e+00 -2.22044605e-16  1.00000000e+00]]\n"
          ]
        }
      ]
    },
    {
      "cell_type": "code",
      "source": [
        "det = np.linalg.det(A)\n",
        "print(det)"
      ],
      "metadata": {
        "colab": {
          "base_uri": "https://localhost:8080/"
        },
        "id": "fEhhJwaKdAGL",
        "outputId": "7204ef13-cdca-40e1-908e-a4260d6e4e8a"
      },
      "execution_count": null,
      "outputs": [
        {
          "output_type": "stream",
          "name": "stdout",
          "text": [
            "34.00000000000001\n"
          ]
        }
      ]
    },
    {
      "cell_type": "code",
      "source": [
        "A = np.array([\n",
        "              [1,-2,3,5],\n",
        "              [2,2,-1,0],\n",
        "              [3,0,1,2],\n",
        "              [1,0,2,0]\n",
        "])\n",
        "det = np.linalg.det(A)\n",
        "print(det)\n"
      ],
      "metadata": {
        "colab": {
          "base_uri": "https://localhost:8080/"
        },
        "id": "7ohcWBkWcfe2",
        "outputId": "2a1bf820-c560-40a4-b4a9-bdb8c5fa8f0d"
      },
      "execution_count": null,
      "outputs": [
        {
          "output_type": "stream",
          "name": "stdout",
          "text": [
            "34.00000000000001\n"
          ]
        }
      ]
    },
    {
      "cell_type": "code",
      "source": [
        "import numpy as np\n",
        "\n",
        "P = [0.1536, 0.3456, 0.3456, 0.1296, 0.0256]\n",
        "Q = [0.25, 0.375, 0.25, 0.0625, 0.0625]\n",
        "R = [0.3456, 0.3456, 0.1536, 0.0256, 0.1296]\n",
        "sum = 0\n",
        "\n",
        "for pe, re in zip(P, R):\n",
        "    sum += pe * np.log2(re)\n",
        "\n",
        "print(-sum)"
      ],
      "metadata": {
        "colab": {
          "base_uri": "https://localhost:8080/"
        },
        "id": "f1nuP1ukkzCv",
        "outputId": "1c162f3d-6df3-4e28-bb22-1902c1a74e8b"
      },
      "execution_count": null,
      "outputs": [
        {
          "output_type": "stream",
          "name": "stdout",
          "text": [
            "2.460009338146368\n"
          ]
        }
      ]
    },
    {
      "cell_type": "code",
      "source": [
        "import numpy as np\n",
        "\n",
        "x = np.array([1.0, 0.9])\n",
        "x = x - 0.1*(np.array[2.7, 8.6])\n",
        "print(x)"
      ],
      "metadata": {
        "colab": {
          "base_uri": "https://localhost:8080/",
          "height": 229
        },
        "id": "rP4O971LqePv",
        "outputId": "a108cfdf-3b9b-41b0-bbca-36430f278598"
      },
      "execution_count": null,
      "outputs": [
        {
          "output_type": "error",
          "ename": "TypeError",
          "evalue": "ignored",
          "traceback": [
            "\u001b[0;31m---------------------------------------------------------------------------\u001b[0m",
            "\u001b[0;31mTypeError\u001b[0m                                 Traceback (most recent call last)",
            "\u001b[0;32m<ipython-input-4-a1acdf60f0e6>\u001b[0m in \u001b[0;36m<module>\u001b[0;34m()\u001b[0m\n\u001b[1;32m      2\u001b[0m \u001b[0;34m\u001b[0m\u001b[0m\n\u001b[1;32m      3\u001b[0m \u001b[0mx\u001b[0m \u001b[0;34m=\u001b[0m \u001b[0mnp\u001b[0m\u001b[0;34m.\u001b[0m\u001b[0marray\u001b[0m\u001b[0;34m(\u001b[0m\u001b[0;34m[\u001b[0m\u001b[0;36m1.0\u001b[0m\u001b[0;34m,\u001b[0m \u001b[0;36m0.9\u001b[0m\u001b[0;34m]\u001b[0m\u001b[0;34m)\u001b[0m\u001b[0;34m\u001b[0m\u001b[0;34m\u001b[0m\u001b[0m\n\u001b[0;32m----> 4\u001b[0;31m \u001b[0mx\u001b[0m \u001b[0;34m=\u001b[0m \u001b[0mx\u001b[0m \u001b[0;34m-\u001b[0m \u001b[0;36m0.1\u001b[0m\u001b[0;34m*\u001b[0m\u001b[0;34m(\u001b[0m\u001b[0mnp\u001b[0m\u001b[0;34m.\u001b[0m\u001b[0marray\u001b[0m\u001b[0;34m[\u001b[0m\u001b[0;36m2.7\u001b[0m\u001b[0;34m,\u001b[0m \u001b[0;36m8.6\u001b[0m\u001b[0;34m]\u001b[0m\u001b[0;34m)\u001b[0m\u001b[0;34m\u001b[0m\u001b[0;34m\u001b[0m\u001b[0m\n\u001b[0m\u001b[1;32m      5\u001b[0m \u001b[0mprint\u001b[0m\u001b[0;34m(\u001b[0m\u001b[0mx\u001b[0m\u001b[0;34m)\u001b[0m\u001b[0;34m\u001b[0m\u001b[0;34m\u001b[0m\u001b[0m\n",
            "\u001b[0;31mTypeError\u001b[0m: 'builtin_function_or_method' object is not subscriptable"
          ]
        }
      ]
    },
    {
      "cell_type": "code",
      "source": [
        "import matplotlib.pyplot as plt\n",
        "\n",
        "def g(x1, x2):\n",
        "    return np.array([4*x1 + 3*x2 - 4, 3*x1 + 4*x2 +2])\n",
        "\n",
        "X = np.array([1.0, 0.9])\n",
        "plt.scatter(X[0], X[1], c='black')\n",
        "print('X0:', X)\n",
        "lr = 0.1    # learning_rate\n",
        "\n",
        "for i in range(3):\n",
        "    x1, x2 = X[0], X[1]\n",
        "    grad = g(x1, x2)\n",
        "    X = X - lr * grad\n",
        "    plt.scatter(X[0], X[1], c='black')\n",
        "    print(f'X{i+1}: {X}')\n",
        "\n",
        "plt.scatter(22/7, -20/7, c='red')\n",
        "plt.show()"
      ],
      "metadata": {
        "colab": {
          "base_uri": "https://localhost:8080/",
          "height": 338
        },
        "id": "KitNA8sWkEzR",
        "outputId": "c0ab77d3-8236-48e6-8d03-ef56b24e2eb6"
      },
      "execution_count": null,
      "outputs": [
        {
          "output_type": "stream",
          "name": "stdout",
          "text": [
            "X0: [1.  0.9]\n",
            "X1: [0.73 0.04]\n",
            "X2: [ 0.826 -0.395]\n",
            "X3: [ 1.0141 -0.6848]\n"
          ]
        },
        {
          "output_type": "display_data",
          "data": {
            "text/plain": [
              "<Figure size 432x288 with 1 Axes>"
            ],
            "image/png": "[encoded data removed]"
          },
          "metadata": {
            "needs_background": "light"
          }
        }
      ]
    },
    {
      "cell_type": "markdown",
      "source": [
        "## **HW04**"
      ],
      "metadata": {
        "id": "uCTJEtBPceLg"
      }
    },
    {
      "cell_type": "code",
      "source": [
        "import numpy as np\n",
        "import math\n",
        "\n",
        "def sigmoid(x):\n",
        "    z = np.exp(-x)\n",
        "    sig = 1 / (1 + z)\n",
        "\n",
        "    return sig\n",
        "\n",
        "def relu(x):\n",
        "\treturn np.maximum(0, x)\n",
        "\n",
        "x = np.array([1,0])\n",
        "bias = np.array([1])\n",
        "x = np.concatenate([bias, x]).T     # x0 = bias\n",
        "\n",
        "U = []\n",
        "\n",
        "U1 = np.array([[-0.3, 1.0, 1.2],\n",
        "               [1.6, -1.0, -1.1]])\n",
        "U2 = np.array([[1.0, 1.0, -1.0],\n",
        "               [0.7, 0.5, 1.0]])\n",
        "U3 = np.array([[0.5, -0.8, 1.0],\n",
        "               [-0.1, 0.3, 0.4]])\n",
        "U4 = np.array([[1.0, 0.1, -0.2],\n",
        "               [-0.2, 1.3, -0.4]])\n",
        "\n",
        "U.append(U1)\n",
        "U.append(U2)\n",
        "U.append(U3)\n",
        "\n",
        "print('In', x)\n",
        "for u in U:\n",
        "    x = np.matmul(u, x)\n",
        "    x = relu(x)\n",
        "    bias = np.array([1])\n",
        "    x = np.concatenate([bias, x]).T\n",
        "\n",
        "x = np.matmul(U4, x)\n",
        "print('\\nout', x)"
      ],
      "metadata": {
        "colab": {
          "base_uri": "https://localhost:8080/"
        },
        "id": "-lWs4HkpcgOz",
        "outputId": "3f7c9f47-293b-4fc5-9cbf-6e3ccece4e5d"
      },
      "execution_count": null,
      "outputs": [
        {
          "output_type": "stream",
          "name": "stdout",
          "text": [
            "In [1 1 0]\n",
            "\n",
            "out [0.949 1.095]\n"
          ]
        }
      ]
    },
    {
      "cell_type": "code",
      "source": [
        "y_true = np.array([0,1])\n",
        "\n",
        "MSE = np.square(np.subtract(y_true, x)).mean()\n",
        "print(MSE)"
      ],
      "metadata": {
        "colab": {
          "base_uri": "https://localhost:8080/"
        },
        "id": "0l0HhBKnrpDP",
        "outputId": "7fb22a3c-9d28-409a-e497-52800ffbac3b"
      },
      "execution_count": null,
      "outputs": [
        {
          "output_type": "stream",
          "name": "stdout",
          "text": [
            "0.4548129999999999\n"
          ]
        }
      ]
    },
    {
      "cell_type": "code",
      "source": [
        "import numpy as np \n",
        "\n",
        "def conv(X, filters, stride=1, pad=0): \n",
        "    n, c, h, w = X.shape \n",
        "    n_f, _, filter_h, filter_w = filters.shape \n",
        "    out_h = (h + 2 * pad - filter_h) // stride + 1 \n",
        "    out_w = (w + 2 * pad - filter_w) // stride + 1 \n",
        "\n",
        "    # add padding to height and width. \n",
        "    in_X = np.pad(X, [(0, 0), (0, 0), (pad, pad), (pad, pad)], 'constant') \n",
        "    out = np.zeros((n, n_f, out_h, out_w)) \n",
        "    for i in range(n): # for each image. \n",
        "        for c in range(n_f): # for each channel. \n",
        "            for h in range(out_h): # slide the filter vertically. \n",
        "                h_start = h * stride \n",
        "                h_end = h_start + filter_h \n",
        "                for w in range(out_w): # slide the filter horizontally. \n",
        "                    w_start = w * stride \n",
        "                    w_end = w_start + filter_w \n",
        "                    # Element-wise multiplication. \n",
        "                    out[i, c, h, w] = np.sum(in_X[i, :, h_start:h_end, w_start:w_end] * filters[c]) \n",
        "    return out\n"
      ],
      "metadata": {
        "id": "jnblF-L9wlPD"
      },
      "execution_count": null,
      "outputs": []
    },
    {
      "cell_type": "code",
      "source": [
        "x = np.asarray([\n",
        "              [2, 2, 2, 2, 2, 1, 1, 1],\n",
        "              [2, 2, 2, 2, 2, 1, 1, 1],\n",
        "              [2, 2, 2, 2, 2, 1, 1, 1],\n",
        "              [2, 2, 2, 2, 2, 1, 1, 1],\n",
        "              [2, 2, 2, 9, 9, 9, 9, 9],\n",
        "              [2, 2, 2, 9, 9, 9, 9, 9],\n",
        "              [2, 2, 2, 9, 9, 9, 9, 9],\n",
        "              [2, 2, 2, 9, 9, 9, 9, 9],\n",
        "])\n",
        "x = x.reshape(1, 1, 8, 8)\n",
        "\n",
        "filters = np.asarray([\n",
        "                      [-1, 0, 1],\n",
        "                      [-1, 0, 1],\n",
        "                      [-1, 0, 1],\n",
        "])\n",
        "filters = filters.reshape(1, 1, 3, 3)\n",
        "\n",
        "out = conv(x, filters, stride=1, pad=0)\n",
        "print(out)"
      ],
      "metadata": {
        "colab": {
          "base_uri": "https://localhost:8080/"
        },
        "id": "CAhUHx7AxOHA",
        "outputId": "4028d805-3b89-4f87-a131-6c4fff296228"
      },
      "execution_count": null,
      "outputs": [
        {
          "output_type": "stream",
          "name": "stdout",
          "text": [
            "[[[[ 0.  0.  0. -3. -3.  0.]\n",
            "   [ 0.  0.  0. -3. -3.  0.]\n",
            "   [ 0.  7.  7. -2. -2.  0.]\n",
            "   [ 0. 14. 14. -1. -1.  0.]\n",
            "   [ 0. 21. 21.  0.  0.  0.]\n",
            "   [ 0. 21. 21.  0.  0.  0.]]]]\n"
          ]
        }
      ]
    },
    {
      "cell_type": "markdown",
      "source": [
        "# **HW06**"
      ],
      "metadata": {
        "id": "ahaR3uacBsg2"
      }
    },
    {
      "cell_type": "markdown",
      "source": [
        "k-means"
      ],
      "metadata": {
        "id": "7VflztdrP9b8"
      }
    },
    {
      "cell_type": "code",
      "source": [
        "import numpy as np\n",
        "import matplotlib.pyplot as plt\n",
        "from sklearn.cluster import KMeans\n",
        "from sklearn.datasets import make_blobs\n",
        "import math\n",
        "\n",
        "def distance(a, b):\n",
        "    return math.sqrt((a[0]-b[0])**2 + (a[1]-b[1]) ** 2)\n",
        "\n",
        "X = [[18, 5], [20, 9], [20, 14], [20, 17], [5, 15], [9, 15], [6, 20]]\n",
        "#Z = [X[0], X[1], X[2]] # 예제 6.1\n",
        "Z = [X[1], X[2], X[6]]\n",
        "k = 3\n",
        "n = len(X)\n",
        "\n",
        "plt.figure(figsize=(8,8))\n",
        "plt.subplot(2,1,1)\n",
        "for xx, yy in X:\n",
        "    plt.plot(xx, yy, marker='.', color='b', markersize=10)\n",
        "\n",
        "for xx, yy in Z:\n",
        "    plt.plot(xx, yy, marker='x', color='r', markersize=10)\n",
        "plt.title(\"INIT\")\n",
        "\n",
        "print(f'init Z = {Z}\\n')\n",
        "\n",
        "epoch = 2\n",
        "while(epoch):\n",
        "    print(f'iter = {2-epoch}')\n",
        "    C = [[], [], []]\n",
        "\n",
        "    for xi in X:\n",
        "        dist = 987654321\n",
        "        cluster = 0\n",
        "        for i, zi in enumerate(Z):\n",
        "            if distance(xi, zi) < dist:\n",
        "                dist = distance(xi, zi)\n",
        "                cluster = i\n",
        "        C[cluster].append(xi)\n",
        "\n",
        "    print(\"C = \", C)\n",
        "\n",
        "    for i, cluster in enumerate(C):\n",
        "        x_mean = 0.0\n",
        "        y_mean = 0.0\n",
        "        for elem in cluster:\n",
        "            x_mean += elem[0]\n",
        "            y_mean += elem[1]\n",
        "        x_mean = x_mean / len(cluster)\n",
        "        y_mean = y_mean / len(cluster)\n",
        "        Z[i] = [x_mean, y_mean]\n",
        "\n",
        "    print(\"Z = \", Z)\n",
        "    print()\n",
        "    epoch -= 1\n",
        "\n",
        "plt.figure(figsize=(8,8))\n",
        "plt.subplot(2,1,2)\n",
        "for cluster, color in zip(C, ['b','g','r']):\n",
        "    for xx, yy in cluster:\n",
        "        plt.plot(xx, yy, marker='.', color=color, markersize=10)\n",
        "for xx, yy in Z:\n",
        "    plt.plot(xx, yy, marker='x', color='r', markersize=10)\n",
        "plt.title(\"After K-means\")\n",
        "\n",
        "plt.show()"
      ],
      "metadata": {
        "colab": {
          "base_uri": "https://localhost:8080/",
          "height": 685
        },
        "id": "_q2DVEKCBt1Y",
        "outputId": "a618b608-919b-471e-d246-86a97ae87dfe"
      },
      "execution_count": 60,
      "outputs": [
        {
          "output_type": "stream",
          "name": "stdout",
          "text": [
            "init Z = [[20, 9], [20, 14], [6, 20]]\n",
            "\n",
            "iter = 0\n",
            "C =  [[[18, 5], [20, 9]], [[20, 14], [20, 17]], [[5, 15], [9, 15], [6, 20]]]\n",
            "Z =  [[19.0, 7.0], [20.0, 15.5], [6.666666666666667, 16.666666666666668]]\n",
            "\n",
            "iter = 1\n",
            "C =  [[[18, 5], [20, 9]], [[20, 14], [20, 17]], [[5, 15], [9, 15], [6, 20]]]\n",
            "Z =  [[19.0, 7.0], [20.0, 15.5], [6.666666666666667, 16.666666666666668]]\n",
            "\n"
          ]
        },
        {
          "output_type": "display_data",
          "data": {
            "text/plain": [
              "<Figure size 576x576 with 1 Axes>"
            ],
            "image/png": "[encoded data removed]"
          },
          "metadata": {
            "needs_background": "light"
          }
        },
        {
          "output_type": "display_data",
          "data": {
            "text/plain": [
              "<Figure size 576x576 with 1 Axes>"
            ],
            "image/png": "[encoded data removed]"
          },
          "metadata": {
            "needs_background": "light"
          }
        }
      ]
    },
    {
      "cell_type": "markdown",
      "source": [
        "k-medoids"
      ],
      "metadata": {
        "id": "stWVyjbmP66t"
      }
    },
    {
      "cell_type": "code",
      "source": [
        "import random\n",
        "\n",
        "def manhattan_distance(a, b):\n",
        "    return abs(a[0]-b[0]) + abs(a[1]-b[1])\n",
        "\n",
        "def plot(X, Z, C=None, index=1):\n",
        "    plt.figure(figsize=(7, 7))\n",
        "    plt.subplot(2, 1, index)\n",
        "\n",
        "    if C is not None:\n",
        "        for cluster, color in zip(C, ['b','g','r']):\n",
        "            for xx, yy in cluster:\n",
        "                plt.plot(xx, yy, marker='.', color=color, markersize=10)\n",
        "        for xx, yy in Z:\n",
        "            plt.plot(xx, yy, marker='x', color='r', markersize=15)\n",
        "    else:\n",
        "        for xx, yy in X:\n",
        "            plt.plot(xx, yy, marker='.', color='b', markersize=10)\n",
        "        for xx, yy in Z:\n",
        "            plt.plot(xx, yy, marker='x', color='r', markersize=15)\n",
        "\n",
        "def K_medoids(X, Z, epoch=2):\n",
        "    NN = epoch\n",
        "    while(epoch):\n",
        "        print(f'iter = {NN-epoch}')\n",
        "        C = [[], [], []]\n",
        "\n",
        "        # 군집 중심으로 가까운 샘플들 할당\n",
        "        for xi in X:\n",
        "            dist = 987654321\n",
        "            cluster = 0\n",
        "            for i, zi in enumerate(Z):\n",
        "                if manhattan_distance(xi, zi) < dist:\n",
        "                    dist = manhattan_distance(xi, zi)\n",
        "                    cluster = i\n",
        "            C[cluster].append(xi)\n",
        "        print(\"C = \", C)\n",
        "\n",
        "        # 기존 군집중심으로부터 군집간의 비용 계산\n",
        "        COST = []\n",
        "        for i, cluster in enumerate(C):\n",
        "            cost = 0\n",
        "            for sample in cluster:\n",
        "                if Z[i] == sample:\n",
        "                    continue\n",
        "                cost += manhattan_distance(sample, Z[i])\n",
        "            COST.append(cost)\n",
        "        print(f'COST = {COST}')\n",
        "\n",
        "        # 새롭게 형성된 군집으로부터 군집 중심 계산\n",
        "        for i, cluster in enumerate(C):\n",
        "            if len(cluster) == 1:\n",
        "                z_new = cluster[0]\n",
        "            else:\n",
        "                z_new = random.choice(cluster)\n",
        "                while(z_new == Z[i]):\n",
        "                    z_new = random.choice(cluster)\n",
        "\n",
        "            cost = 0\n",
        "            for sample in cluster:\n",
        "                cost += manhattan_distance(sample, z_new)\n",
        "\n",
        "            if (cost < COST[i]):\n",
        "                Z[i] = z_new\n",
        "\n",
        "        print(\"Z = \", Z)\n",
        "\n",
        "        print()\n",
        "        epoch -= 1\n",
        "    return X, Z, C\n",
        "\n",
        "X = [[18, 5], [20, 9], [20, 14], [20, 17], [5, 15], [9, 15], [6, 20]]\n",
        "Z1 = [X[0], X[1], X[2]] # 예제 6.1\n",
        "Z2 = [X[1], X[2], X[6]]\n",
        "k = 3\n",
        "n = len(X)"
      ],
      "metadata": {
        "id": "Z8b4tIF0G9Vr"
      },
      "execution_count": 79,
      "outputs": []
    },
    {
      "cell_type": "code",
      "source": [
        "plot(X, Z1, index=1)\n",
        "plt.title(\"INIT [ex 6.1]\")\n",
        "print(f'init Z = {Z1}\\n')\n",
        "\n",
        "X, Z1, C1 = K_medoids(X, Z1, epoch=15)\n",
        "plot(X, Z1, C1, index=2)\n",
        "plt.title(\"After K-medoids [ex 6.1]\")"
      ],
      "metadata": {
        "colab": {
          "base_uri": "https://localhost:8080/",
          "height": 1000
        },
        "id": "Ux2Zgf07b-Nd",
        "outputId": "8b5a2fda-7bed-467e-c3c5-8841c2b79a8f"
      },
      "execution_count": 80,
      "outputs": [
        {
          "output_type": "stream",
          "name": "stdout",
          "text": [
            "init Z = [[18, 5], [20, 9], [20, 14]]\n",
            "\n",
            "iter = 0\n",
            "C =  [[[18, 5]], [[20, 9]], [[20, 14], [20, 17], [5, 15], [9, 15], [6, 20]]]\n",
            "COST = [0, 0, 51]\n",
            "Z =  [[18, 5], [20, 9], [20, 14]]\n",
            "\n",
            "iter = 1\n",
            "C =  [[[18, 5]], [[20, 9]], [[20, 14], [20, 17], [5, 15], [9, 15], [6, 20]]]\n",
            "COST = [0, 0, 51]\n",
            "Z =  [[18, 5], [20, 9], [20, 17]]\n",
            "\n",
            "iter = 2\n",
            "C =  [[[18, 5]], [[20, 9]], [[20, 14], [20, 17], [5, 15], [9, 15], [6, 20]]]\n",
            "COST = [0, 0, 50]\n",
            "Z =  [[18, 5], [20, 9], [20, 17]]\n",
            "\n",
            "iter = 3\n",
            "C =  [[[18, 5]], [[20, 9]], [[20, 14], [20, 17], [5, 15], [9, 15], [6, 20]]]\n",
            "COST = [0, 0, 50]\n",
            "Z =  [[18, 5], [20, 9], [20, 17]]\n",
            "\n",
            "iter = 4\n",
            "C =  [[[18, 5]], [[20, 9]], [[20, 14], [20, 17], [5, 15], [9, 15], [6, 20]]]\n",
            "COST = [0, 0, 50]\n",
            "Z =  [[18, 5], [20, 9], [20, 17]]\n",
            "\n",
            "iter = 5\n",
            "C =  [[[18, 5]], [[20, 9]], [[20, 14], [20, 17], [5, 15], [9, 15], [6, 20]]]\n",
            "COST = [0, 0, 50]\n",
            "Z =  [[18, 5], [20, 9], [9, 15]]\n",
            "\n",
            "iter = 6\n",
            "C =  [[[18, 5]], [[20, 9], [20, 14], [20, 17]], [[5, 15], [9, 15], [6, 20]]]\n",
            "COST = [0, 13, 12]\n",
            "Z =  [[18, 5], [20, 14], [9, 15]]\n",
            "\n",
            "iter = 7\n",
            "C =  [[[18, 5]], [[20, 9], [20, 14], [20, 17]], [[5, 15], [9, 15], [6, 20]]]\n",
            "COST = [0, 8, 12]\n",
            "Z =  [[18, 5], [20, 14], [9, 15]]\n",
            "\n",
            "iter = 8\n",
            "C =  [[[18, 5]], [[20, 9], [20, 14], [20, 17]], [[5, 15], [9, 15], [6, 20]]]\n",
            "COST = [0, 8, 12]\n",
            "Z =  [[18, 5], [20, 14], [5, 15]]\n",
            "\n",
            "iter = 9\n",
            "C =  [[[18, 5]], [[20, 9], [20, 14], [20, 17]], [[5, 15], [9, 15], [6, 20]]]\n",
            "COST = [0, 8, 10]\n",
            "Z =  [[18, 5], [20, 14], [5, 15]]\n",
            "\n",
            "iter = 10\n",
            "C =  [[[18, 5]], [[20, 9], [20, 14], [20, 17]], [[5, 15], [9, 15], [6, 20]]]\n",
            "COST = [0, 8, 10]\n",
            "Z =  [[18, 5], [20, 14], [5, 15]]\n",
            "\n",
            "iter = 11\n",
            "C =  [[[18, 5]], [[20, 9], [20, 14], [20, 17]], [[5, 15], [9, 15], [6, 20]]]\n",
            "COST = [0, 8, 10]\n",
            "Z =  [[18, 5], [20, 14], [5, 15]]\n",
            "\n",
            "iter = 12\n",
            "C =  [[[18, 5]], [[20, 9], [20, 14], [20, 17]], [[5, 15], [9, 15], [6, 20]]]\n",
            "COST = [0, 8, 10]\n",
            "Z =  [[18, 5], [20, 14], [5, 15]]\n",
            "\n",
            "iter = 13\n",
            "C =  [[[18, 5]], [[20, 9], [20, 14], [20, 17]], [[5, 15], [9, 15], [6, 20]]]\n",
            "COST = [0, 8, 10]\n",
            "Z =  [[18, 5], [20, 14], [5, 15]]\n",
            "\n",
            "iter = 14\n",
            "C =  [[[18, 5]], [[20, 9], [20, 14], [20, 17]], [[5, 15], [9, 15], [6, 20]]]\n",
            "COST = [0, 8, 10]\n",
            "Z =  [[18, 5], [20, 14], [5, 15]]\n",
            "\n"
          ]
        },
        {
          "output_type": "execute_result",
          "data": {
            "text/plain": [
              "Text(0.5, 1.0, 'After K-medoids [ex 6.1]')"
            ]
          },
          "metadata": {},
          "execution_count": 80
        },
        {
          "output_type": "display_data",
          "data": {
            "text/plain": [
              "<Figure size 504x504 with 1 Axes>"
            ],
            "image/png": "[encoded data removed]"
          },
          "metadata": {
            "needs_background": "light"
          }
        },
        {
          "output_type": "display_data",
          "data": {
            "text/plain": [
              "<Figure size 504x504 with 1 Axes>"
            ],
            "image/png": "[encoded data removed]"
          },
          "metadata": {
            "needs_background": "light"
          }
        }
      ]
    },
    {
      "cell_type": "code",
      "source": [
        "plot(X, Z2, index=1)\n",
        "plt.title(\"INIT [hw Q1]\")\n",
        "print(f'init Z = {Z2}\\n')\n",
        "\n",
        "X, Z2, C2 = K_medoids(X, Z2, epoch=15)\n",
        "plot(X, Z2, C, index=2)\n",
        "plt.title(\"After K-medoids [hw Q1]\")\n",
        "\n",
        "plt.show()"
      ],
      "metadata": {
        "colab": {
          "base_uri": "https://localhost:8080/",
          "height": 1000
        },
        "id": "SG99v_bFcBJs",
        "outputId": "0785f758-485e-4185-924a-ddb50f84689a"
      },
      "execution_count": 81,
      "outputs": [
        {
          "output_type": "stream",
          "name": "stdout",
          "text": [
            "init Z = [[20, 9], [20, 14], [6, 20]]\n",
            "\n",
            "iter = 0\n",
            "C =  [[[18, 5], [20, 9]], [[20, 14], [20, 17]], [[5, 15], [9, 15], [6, 20]]]\n",
            "COST = [6, 3, 14]\n",
            "Z =  [[20, 9], [20, 14], [9, 15]]\n",
            "\n",
            "iter = 1\n",
            "C =  [[[18, 5], [20, 9]], [[20, 14], [20, 17]], [[5, 15], [9, 15], [6, 20]]]\n",
            "COST = [6, 3, 12]\n",
            "Z =  [[20, 9], [20, 14], [9, 15]]\n",
            "\n",
            "iter = 2\n",
            "C =  [[[18, 5], [20, 9]], [[20, 14], [20, 17]], [[5, 15], [9, 15], [6, 20]]]\n",
            "COST = [6, 3, 12]\n",
            "Z =  [[20, 9], [20, 14], [9, 15]]\n",
            "\n",
            "iter = 3\n",
            "C =  [[[18, 5], [20, 9]], [[20, 14], [20, 17]], [[5, 15], [9, 15], [6, 20]]]\n",
            "COST = [6, 3, 12]\n",
            "Z =  [[20, 9], [20, 14], [5, 15]]\n",
            "\n",
            "iter = 4\n",
            "C =  [[[18, 5], [20, 9]], [[20, 14], [20, 17]], [[5, 15], [9, 15], [6, 20]]]\n",
            "COST = [6, 3, 10]\n",
            "Z =  [[20, 9], [20, 14], [5, 15]]\n",
            "\n",
            "iter = 5\n",
            "C =  [[[18, 5], [20, 9]], [[20, 14], [20, 17]], [[5, 15], [9, 15], [6, 20]]]\n",
            "COST = [6, 3, 10]\n",
            "Z =  [[20, 9], [20, 14], [5, 15]]\n",
            "\n",
            "iter = 6\n",
            "C =  [[[18, 5], [20, 9]], [[20, 14], [20, 17]], [[5, 15], [9, 15], [6, 20]]]\n",
            "COST = [6, 3, 10]\n",
            "Z =  [[20, 9], [20, 14], [5, 15]]\n",
            "\n",
            "iter = 7\n",
            "C =  [[[18, 5], [20, 9]], [[20, 14], [20, 17]], [[5, 15], [9, 15], [6, 20]]]\n",
            "COST = [6, 3, 10]\n",
            "Z =  [[20, 9], [20, 14], [5, 15]]\n",
            "\n",
            "iter = 8\n",
            "C =  [[[18, 5], [20, 9]], [[20, 14], [20, 17]], [[5, 15], [9, 15], [6, 20]]]\n",
            "COST = [6, 3, 10]\n",
            "Z =  [[20, 9], [20, 14], [5, 15]]\n",
            "\n",
            "iter = 9\n",
            "C =  [[[18, 5], [20, 9]], [[20, 14], [20, 17]], [[5, 15], [9, 15], [6, 20]]]\n",
            "COST = [6, 3, 10]\n",
            "Z =  [[20, 9], [20, 14], [5, 15]]\n",
            "\n",
            "iter = 10\n",
            "C =  [[[18, 5], [20, 9]], [[20, 14], [20, 17]], [[5, 15], [9, 15], [6, 20]]]\n",
            "COST = [6, 3, 10]\n",
            "Z =  [[20, 9], [20, 14], [5, 15]]\n",
            "\n",
            "iter = 11\n",
            "C =  [[[18, 5], [20, 9]], [[20, 14], [20, 17]], [[5, 15], [9, 15], [6, 20]]]\n",
            "COST = [6, 3, 10]\n",
            "Z =  [[20, 9], [20, 14], [5, 15]]\n",
            "\n",
            "iter = 12\n",
            "C =  [[[18, 5], [20, 9]], [[20, 14], [20, 17]], [[5, 15], [9, 15], [6, 20]]]\n",
            "COST = [6, 3, 10]\n",
            "Z =  [[20, 9], [20, 14], [5, 15]]\n",
            "\n",
            "iter = 13\n",
            "C =  [[[18, 5], [20, 9]], [[20, 14], [20, 17]], [[5, 15], [9, 15], [6, 20]]]\n",
            "COST = [6, 3, 10]\n",
            "Z =  [[20, 9], [20, 14], [5, 15]]\n",
            "\n",
            "iter = 14\n",
            "C =  [[[18, 5], [20, 9]], [[20, 14], [20, 17]], [[5, 15], [9, 15], [6, 20]]]\n",
            "COST = [6, 3, 10]\n",
            "Z =  [[20, 9], [20, 14], [5, 15]]\n",
            "\n"
          ]
        },
        {
          "output_type": "display_data",
          "data": {
            "text/plain": [
              "<Figure size 504x504 with 1 Axes>"
            ],
            "image/png": "[encoded data removed]"
          },
          "metadata": {
            "needs_background": "light"
          }
        },
        {
          "output_type": "display_data",
          "data": {
            "text/plain": [
              "<Figure size 504x504 with 1 Axes>"
            ],
            "image/png": "[encoded data removed]"
          },
          "metadata": {
            "needs_background": "light"
          }
        }
      ]
    }
  ]
}