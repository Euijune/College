{
 "cells": [
  {
   "cell_type": "markdown",
   "metadata": {},
   "source": [
    "## StackType.py"
   ]
  },
  {
   "cell_type": "code",
   "execution_count": 10,
   "metadata": {},
   "outputs": [],
   "source": [
    "MAX_ITEMS = 100\n",
    "\n",
    "class StackType:\n",
    "    def __init__(self):\n",
    "        self.info = []\n",
    "\n",
    "    def is_empty(self):\n",
    "        return len(self.info) == 0\n",
    "        \n",
    "    def is_full(self):\n",
    "        return len(self.info) == MAX_ITEMS\n",
    "        \n",
    "    def push(self, item):\n",
    "        if (self.is_full()):\n",
    "            print('Stack is full.')\n",
    "        else:\n",
    "            self.info.append(item)\n",
    "\n",
    "    def pop(self):\n",
    "        if (self.is_empty()):\n",
    "            print('Stack is empty.')\n",
    "        else:    \n",
    "            self.info.pop(-1)\n",
    "\n",
    "    def top(self):\n",
    "        if (self.is_empty()):\n",
    "            return 'Stack is empty.'\n",
    "        else:\n",
    "            return self.info[-1]        "
   ]
  },
  {
   "cell_type": "markdown",
   "metadata": {},
   "source": [
    "## Test.py"
   ]
  },
  {
   "cell_type": "code",
   "execution_count": 11,
   "metadata": {
    "scrolled": true
   },
   "outputs": [
    {
     "name": "stdout",
     "output_type": "stream",
     "text": [
      "enter the number: 1\n",
      "enter the number: 3\n",
      "enter the number: 5\n",
      "enter the number: 7\n",
      "enter the number: 9\n",
      "\n",
      "False\n",
      "\n",
      "9\n",
      "7\n",
      "5\n",
      "3\n",
      "1\n",
      "\n",
      "Stack is empty.\n"
     ]
    }
   ],
   "source": [
    "import os\n",
    "\n",
    "if __name__ == '__main__':\n",
    "    my_stack = StackType()\n",
    "    \n",
    "    for i in range(5):\n",
    "        number = int(input(\"enter the number: \"))\n",
    "        my_stack.push(number)\n",
    "    \n",
    "    print()\n",
    "    print(my_stack.is_full())\n",
    "    print()\n",
    "    \n",
    "    while (True):\n",
    "        if (my_stack.is_empty() == True):\n",
    "            break\n",
    "        else:\n",
    "            print(my_stack.top())\n",
    "            my_stack.pop()\n",
    "\n",
    "    print()\n",
    "    print(my_stack.top())"
   ]
  }
 ],
 "metadata": {
  "kernelspec": {
   "display_name": "Python 3",
   "language": "python",
   "name": "python3"
  },
  "language_info": {
   "codemirror_mode": {
    "name": "ipython",
    "version": 3
   },
   "file_extension": ".py",
   "mimetype": "text/x-python",
   "name": "python",
   "nbconvert_exporter": "python",
   "pygments_lexer": "ipython3",
   "version": "3.7.6"
  }
 },
 "nbformat": 4,
 "nbformat_minor": 4
}
