{
 "cells": [
  {
   "cell_type": "code",
   "execution_count": 1,
   "metadata": {},
   "outputs": [],
   "source": [
    "from enum import Enum\n",
    "\n",
    "MAX_ITEMS = 100\n",
    "\n",
    "class Compare(Enum):\n",
    "    LESS = 0\n",
    "    GREATER = 1\n",
    "    EQUAL = 2\n",
    "\n",
    "class ItemType:\n",
    "    \"\"\" Item Type \"\"\"\n",
    "\n",
    "    def __init__(self, val):\n",
    "        self.value = val\n",
    "\n",
    "    def compared_to(self, otherItem):\n",
    "        selfV = self.value\n",
    "        otherItemV = otherItem.value\n",
    "        if selfV < otherItemV:\n",
    "            return Compare.LESS\n",
    "        elif selfV > otherItemV:\n",
    "            return Compare.GREATER\n",
    "        return Compare.EQUAL \n",
    "\n",
    "    def __str__(self):\n",
    "        return str(self.value)\n",
    "\n",
    "class UnsortedType:\n",
    "    \"\"\" Chapter 3: Unsorted List \"\"\"\n",
    "\n",
    "    def __init__(self):\n",
    "        self.length = 0\n",
    "        self.info = []\n",
    "        self.current_pos = -1\n",
    "\n",
    "    def make_empty(self):\n",
    "        self.length = 0\n",
    "\n",
    "    def length_is(self):\n",
    "        return self.length\n",
    "\n",
    "    def is_full(self):\n",
    "        if self.length == MAX_ITEMS:\n",
    "            return True\n",
    "        return False\n",
    "\n",
    "    def insert_item(self, item):\n",
    "        self.info.append(item)\n",
    "        self.length += 1\n",
    "\n",
    "    def retrieve_item(self, item):\n",
    "        location = 0\n",
    "        found = False\n",
    "        moreToSearch = location < self.length\n",
    "        \n",
    "        while moreToSearch:\n",
    "            if item.compared_to(self.info[location]) == Compare.EQUAL:\n",
    "                found = True\n",
    "                break;\n",
    "            else:\n",
    "                location += 1\n",
    "                moreToSearch = location < self.length\n",
    "        return found        \n",
    "\n",
    "    def delete_item(self, item):\n",
    "        location = 0\n",
    "        while item.compared_to(self.info[location]) != Compare.EQUAL :\n",
    "            location += 1\n",
    "        self.info[location] = self.info[self.length-1]\n",
    "        self.length -= 1\n",
    "\n",
    "    def reset_list(self):\n",
    "        self.current_pos = -1\n",
    "\n",
    "    def get_next_item(self):\n",
    "        self.current_pos += 1\n",
    "        return self.info[self.current_pos]\n",
    "\n",
    "    def __str__(self):\n",
    "        self.reset_list()\n",
    "        \n",
    "        print_list = []\n",
    "        for i in range(self.length):\n",
    "            print_list.append(str(self.get_next_item()))\n",
    "        \n",
    "        return str(\" \".join(print_list))"
   ]
  },
  {
   "cell_type": "markdown",
   "metadata": {},
   "source": [
    "Test"
   ]
  },
  {
   "cell_type": "code",
   "execution_count": 3,
   "metadata": {},
   "outputs": [
    {
     "name": "stdout",
     "output_type": "stream",
     "text": [
      "Before:\n",
      "87 12 56 2 99 65 19 38 81 6 77\n",
      "After deleting 65:\n",
      "87 12 56 2 99 77 19 38 81 6\n"
     ]
    }
   ],
   "source": [
    "if __name__ == '__main__':\n",
    "    l = UnsortedType()\n",
    "    f = open('./data.txt', 'r')\n",
    "    line = f.readline()\n",
    "    while line:\n",
    "        t = int(line)\n",
    "        i = ItemType(t)\n",
    "        l.insert_item(i)\n",
    "        line = f.readline()\n",
    "    f.close()\n",
    "    \n",
    "    print(\"Before:\")\n",
    "    print(l)\n",
    "    \n",
    "    print(\"After deleting 65:\")\n",
    "    a = ItemType(65)\n",
    "    l.delete_item(a)\n",
    "    print(l)  \n",
    "    "
   ]
  },
  {
   "cell_type": "code",
   "execution_count": 4,
   "metadata": {},
   "outputs": [
    {
     "name": "stdout",
     "output_type": "stream",
     "text": [
      "3 is not in the list.\n",
      "2 is in the list.\n"
     ]
    }
   ],
   "source": [
    "    a = ItemType(3)\n",
    "    if l.retrieve_item(a) == True:\n",
    "        print(str(a) + \" is in the list.\")\n",
    "    else:\n",
    "        print(str(a) + \" is not in the list.\")\n",
    "        \n",
    "    a = ItemType(2)\n",
    "    if l.retrieve_item(a) == True:\n",
    "        print(str(a) + \" is in the list.\")\n",
    "    else:\n",
    "        print(str(a) + \" is not in the list.\")"
   ]
  }
 ],
 "metadata": {
  "kernelspec": {
   "display_name": "Python 3",
   "language": "python",
   "name": "python3"
  },
  "language_info": {
   "codemirror_mode": {
    "name": "ipython",
    "version": 3
   },
   "file_extension": ".py",
   "mimetype": "text/x-python",
   "name": "python",
   "nbconvert_exporter": "python",
   "pygments_lexer": "ipython3",
   "version": "3.7.6"
  }
 },
 "nbformat": 4,
 "nbformat_minor": 4
}
