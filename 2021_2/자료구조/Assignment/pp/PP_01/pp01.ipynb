{
 "cells": [
  {
   "cell_type": "code",
   "execution_count": 36,
   "metadata": {},
   "outputs": [],
   "source": [
    "class Matrix():\n",
    "    def __init__(self, E00=0, E01=0, E10=0, E11=0):\n",
    "        matrix = []\n",
    "\n",
    "        self.matrix = [E00, E01, E10, E11]\n",
    "        self.len = len(self.matrix)\n",
    "        \n",
    "    def __add__(self, matrix_oth):\n",
    "        res = Matrix()\n",
    "        for i in range(0, self.len):\n",
    "            value = self.matrix[i] + matrix_oth[i]\n",
    "            res.storeVal(i, value)\n",
    "        return res\n",
    "    \n",
    "    def __sub__(self, matrix_oth):\n",
    "        res = Matrix()\n",
    "        for i in range(0, self.len):\n",
    "            value = self.matrix[i] - matrix_oth[i]\n",
    "            res.storeVal(i, value)\n",
    "        return res\n",
    "        \n",
    "    def __len__(self):\n",
    "        return self.len\n",
    "    \n",
    "    def __str__(self):\n",
    "        return \"{} {}\\n{} {}\".format(\n",
    "            self.matrix[0], self.matrix[1], self.matrix[2], self.matrix[3])\n",
    "                \n",
    "    def __getitem__(self, idx):\n",
    "        elem = self.matrix[idx]\n",
    "        return elem\n",
    "    \n",
    "    def storeVal(self, idx, val):\n",
    "        self.matrix[idx] = val\n",
    "        "
   ]
  },
  {
   "cell_type": "code",
   "execution_count": 40,
   "metadata": {},
   "outputs": [
    {
     "name": "stdout",
     "output_type": "stream",
     "text": [
      "6 8\n",
      "10 12\n",
      "-4 -4\n",
      "-4 -4\n"
     ]
    }
   ],
   "source": [
    "if __name__ == \"__main__\" :\n",
    "    A = Matrix(1, 2, 3, 4)\n",
    "    B = Matrix(5, 6, 7, 8)\n",
    "    \n",
    "    C = A+B\n",
    "    D = A-B\n",
    "    \n",
    "    print(C)\n",
    "    print(D)"
   ]
  }
 ],
 "metadata": {
  "kernelspec": {
   "display_name": "Python 3",
   "language": "python",
   "name": "python3"
  },
  "language_info": {
   "codemirror_mode": {
    "name": "ipython",
    "version": 3
   },
   "file_extension": ".py",
   "mimetype": "text/x-python",
   "name": "python",
   "nbconvert_exporter": "python",
   "pygments_lexer": "ipython3",
   "version": "3.7.6"
  }
 },
 "nbformat": 4,
 "nbformat_minor": 4
}
