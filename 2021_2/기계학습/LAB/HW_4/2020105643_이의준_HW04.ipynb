{
 "cells": [
  {
   "cell_type": "markdown",
   "metadata": {
    "id": "ynlHPfssZJJP"
   },
   "source": [
    "# **Imports**"
   ]
  },
  {
   "cell_type": "code",
   "execution_count": 379,
   "metadata": {
    "id": "NJlQEnQRYyJV"
   },
   "outputs": [],
   "source": [
    "from sklearn.datasets import fetch_openml\n",
    "from sklearn.model_selection import train_test_split, cross_val_score, GridSearchCV, KFold\n",
    "from sklearn.preprocessing import LabelEncoder, StandardScaler\n",
    "from sklearn.pipeline import Pipeline, make_pipeline\n",
    "from sklearn.compose import ColumnTransformer\n",
    "from sklearn.metrics import classification_report, plot_precision_recall_curve, precision_recall_fscore_support, average_precision_score, plot_roc_curve, confusion_matrix\n",
    "\n",
    "from sklearn.linear_model import LogisticRegression\n",
    "from sklearn.svm import LinearSVC\n",
    "from sklearn.ensemble import RandomForestClassifier\n",
    "\n",
    "import numpy as np\n",
    "import pandas as pd\n",
    "import matplotlib.pyplot as plt"
   ]
  },
  {
   "cell_type": "code",
   "execution_count": 2,
   "metadata": {
    "colab": {
     "base_uri": "https://localhost:8080/"
    },
    "id": "6DFCF7g7BElT",
    "outputId": "03a89ea0-eedd-463b-d9de-59cf725e7bff"
   },
   "outputs": [
    {
     "name": "stdout",
     "output_type": "stream",
     "text": [
      "Mounted at /content/drive\n"
     ]
    }
   ],
   "source": [
    "from google.colab import drive\n",
    "drive.mount('/content/drive')"
   ]
  },
  {
   "cell_type": "markdown",
   "metadata": {
    "id": "6xBoPp-UZSjT"
   },
   "source": [
    "# **Load file**"
   ]
  },
  {
   "cell_type": "code",
   "execution_count": 238,
   "metadata": {
    "id": "_gV-dfSdZWeb"
   },
   "outputs": [],
   "source": [
    "data = fetch_openml('credit-g')\n",
    "X = data.data\n",
    "y = data.target"
   ]
  },
  {
   "cell_type": "code",
   "execution_count": 239,
   "metadata": {
    "colab": {
     "base_uri": "https://localhost:8080/"
    },
    "id": "bku2fhQ2dzw4",
    "outputId": "89630cf6-da6a-47e7-897a-af62e61060c9"
   },
   "outputs": [
    {
     "data": {
      "text/plain": [
       "((1000, 20), (1000,))"
      ]
     },
     "execution_count": 239,
     "metadata": {},
     "output_type": "execute_result"
    }
   ],
   "source": [
    "X.shape, y.shape"
   ]
  },
  {
   "cell_type": "code",
   "execution_count": 240,
   "metadata": {
    "colab": {
     "base_uri": "https://localhost:8080/",
     "height": 296
    },
    "id": "nxYXSkuFdyw9",
    "outputId": "8a8d778e-a6d1-43a4-b83c-4e6f633ba798"
   },
   "outputs": [
    {
     "data": {
      "text/html": [
       "<div>\n",
       "<style scoped>\n",
       "    .dataframe tbody tr th:only-of-type {\n",
       "        vertical-align: middle;\n",
       "    }\n",
       "\n",
       "    .dataframe tbody tr th {\n",
       "        vertical-align: top;\n",
       "    }\n",
       "\n",
       "    .dataframe thead th {\n",
       "        text-align: right;\n",
       "    }\n",
       "</style>\n",
       "<table border=\"1\" class=\"dataframe\">\n",
       "  <thead>\n",
       "    <tr style=\"text-align: right;\">\n",
       "      <th></th>\n",
       "      <th>checking_status</th>\n",
       "      <th>duration</th>\n",
       "      <th>credit_history</th>\n",
       "      <th>purpose</th>\n",
       "      <th>credit_amount</th>\n",
       "      <th>savings_status</th>\n",
       "      <th>employment</th>\n",
       "      <th>installment_commitment</th>\n",
       "      <th>personal_status</th>\n",
       "      <th>other_parties</th>\n",
       "      <th>residence_since</th>\n",
       "      <th>property_magnitude</th>\n",
       "      <th>age</th>\n",
       "      <th>other_payment_plans</th>\n",
       "      <th>housing</th>\n",
       "      <th>existing_credits</th>\n",
       "      <th>job</th>\n",
       "      <th>num_dependents</th>\n",
       "      <th>own_telephone</th>\n",
       "      <th>foreign_worker</th>\n",
       "    </tr>\n",
       "  </thead>\n",
       "  <tbody>\n",
       "    <tr>\n",
       "      <th>0</th>\n",
       "      <td>&lt;0</td>\n",
       "      <td>6.0</td>\n",
       "      <td>critical/other existing credit</td>\n",
       "      <td>radio/tv</td>\n",
       "      <td>1169.0</td>\n",
       "      <td>no known savings</td>\n",
       "      <td>&gt;=7</td>\n",
       "      <td>4.0</td>\n",
       "      <td>male single</td>\n",
       "      <td>none</td>\n",
       "      <td>4.0</td>\n",
       "      <td>real estate</td>\n",
       "      <td>67.0</td>\n",
       "      <td>none</td>\n",
       "      <td>own</td>\n",
       "      <td>2.0</td>\n",
       "      <td>skilled</td>\n",
       "      <td>1.0</td>\n",
       "      <td>yes</td>\n",
       "      <td>yes</td>\n",
       "    </tr>\n",
       "    <tr>\n",
       "      <th>1</th>\n",
       "      <td>0&lt;=X&lt;200</td>\n",
       "      <td>48.0</td>\n",
       "      <td>existing paid</td>\n",
       "      <td>radio/tv</td>\n",
       "      <td>5951.0</td>\n",
       "      <td>&lt;100</td>\n",
       "      <td>1&lt;=X&lt;4</td>\n",
       "      <td>2.0</td>\n",
       "      <td>female div/dep/mar</td>\n",
       "      <td>none</td>\n",
       "      <td>2.0</td>\n",
       "      <td>real estate</td>\n",
       "      <td>22.0</td>\n",
       "      <td>none</td>\n",
       "      <td>own</td>\n",
       "      <td>1.0</td>\n",
       "      <td>skilled</td>\n",
       "      <td>1.0</td>\n",
       "      <td>none</td>\n",
       "      <td>yes</td>\n",
       "    </tr>\n",
       "    <tr>\n",
       "      <th>2</th>\n",
       "      <td>no checking</td>\n",
       "      <td>12.0</td>\n",
       "      <td>critical/other existing credit</td>\n",
       "      <td>education</td>\n",
       "      <td>2096.0</td>\n",
       "      <td>&lt;100</td>\n",
       "      <td>4&lt;=X&lt;7</td>\n",
       "      <td>2.0</td>\n",
       "      <td>male single</td>\n",
       "      <td>none</td>\n",
       "      <td>3.0</td>\n",
       "      <td>real estate</td>\n",
       "      <td>49.0</td>\n",
       "      <td>none</td>\n",
       "      <td>own</td>\n",
       "      <td>1.0</td>\n",
       "      <td>unskilled resident</td>\n",
       "      <td>2.0</td>\n",
       "      <td>none</td>\n",
       "      <td>yes</td>\n",
       "    </tr>\n",
       "    <tr>\n",
       "      <th>3</th>\n",
       "      <td>&lt;0</td>\n",
       "      <td>42.0</td>\n",
       "      <td>existing paid</td>\n",
       "      <td>furniture/equipment</td>\n",
       "      <td>7882.0</td>\n",
       "      <td>&lt;100</td>\n",
       "      <td>4&lt;=X&lt;7</td>\n",
       "      <td>2.0</td>\n",
       "      <td>male single</td>\n",
       "      <td>guarantor</td>\n",
       "      <td>4.0</td>\n",
       "      <td>life insurance</td>\n",
       "      <td>45.0</td>\n",
       "      <td>none</td>\n",
       "      <td>for free</td>\n",
       "      <td>1.0</td>\n",
       "      <td>skilled</td>\n",
       "      <td>2.0</td>\n",
       "      <td>none</td>\n",
       "      <td>yes</td>\n",
       "    </tr>\n",
       "    <tr>\n",
       "      <th>4</th>\n",
       "      <td>&lt;0</td>\n",
       "      <td>24.0</td>\n",
       "      <td>delayed previously</td>\n",
       "      <td>new car</td>\n",
       "      <td>4870.0</td>\n",
       "      <td>&lt;100</td>\n",
       "      <td>1&lt;=X&lt;4</td>\n",
       "      <td>3.0</td>\n",
       "      <td>male single</td>\n",
       "      <td>none</td>\n",
       "      <td>4.0</td>\n",
       "      <td>no known property</td>\n",
       "      <td>53.0</td>\n",
       "      <td>none</td>\n",
       "      <td>for free</td>\n",
       "      <td>2.0</td>\n",
       "      <td>skilled</td>\n",
       "      <td>2.0</td>\n",
       "      <td>none</td>\n",
       "      <td>yes</td>\n",
       "    </tr>\n",
       "  </tbody>\n",
       "</table>\n",
       "</div>"
      ],
      "text/plain": [
       "  checking_status  duration  ... own_telephone foreign_worker\n",
       "0              <0       6.0  ...           yes            yes\n",
       "1        0<=X<200      48.0  ...          none            yes\n",
       "2     no checking      12.0  ...          none            yes\n",
       "3              <0      42.0  ...          none            yes\n",
       "4              <0      24.0  ...          none            yes\n",
       "\n",
       "[5 rows x 20 columns]"
      ]
     },
     "execution_count": 240,
     "metadata": {},
     "output_type": "execute_result"
    }
   ],
   "source": [
    "X.head()"
   ]
  },
  {
   "cell_type": "markdown",
   "metadata": {
    "id": "Tmko6UokZM07"
   },
   "source": [
    "# **Q1.**\n",
    "## Determine which features are continuous and which are categorical."
   ]
  },
  {
   "cell_type": "code",
   "execution_count": 241,
   "metadata": {
    "id": "F3iRNwy1ZoTP"
   },
   "outputs": [],
   "source": [
    "XDtype = X.dtypes == float\n",
    "indxes_cont = [indx for indx, i in enumerate(XDtype) if i == True]\n",
    "indxes_cate = [indx for indx, i in enumerate(XDtype) if i == False]"
   ]
  },
  {
   "cell_type": "code",
   "execution_count": 242,
   "metadata": {
    "colab": {
     "base_uri": "https://localhost:8080/"
    },
    "id": "iPsCuoR0fQwP",
    "outputId": "7510175b-d766-4b68-c51c-55622bc974b6"
   },
   "outputs": [
    {
     "name": "stdout",
     "output_type": "stream",
     "text": [
      "continuous features : duration, credit_amount, installment_commitment, residence_since, age, existing_credits, num_dependents\n",
      "categorical features : checking_status, credit_history, purpose, savings_status, employment, personal_status, other_parties, property_magnitude, other_payment_plans, housing, job, own_telephone, foreign_worker\n"
     ]
    }
   ],
   "source": [
    "# A1\n",
    "continuous = X.columns[indxes_cont]\n",
    "categorical = X.columns[indxes_cate]\n",
    "print(\"continuous features : \"+\", \".join(continuous))\n",
    "print(\"categorical features : \"+\", \".join(categorical))"
   ]
  },
  {
   "cell_type": "markdown",
   "metadata": {
    "id": "KPEczJKK_xKA"
   },
   "source": [
    "# **Q2.**\n",
    "## Visualize the univariate distribution of each continuous feature, and the distribution of the target."
   ]
  },
  {
   "cell_type": "markdown",
   "metadata": {
    "id": "qw3bcUJ1CMK1"
   },
   "source": [
    "the univariate distribution of each continuous feature"
   ]
  },
  {
   "cell_type": "code",
   "execution_count": 244,
   "metadata": {
    "colab": {
     "base_uri": "https://localhost:8080/",
     "height": 840
    },
    "id": "iF4482wrEntO",
    "outputId": "b24b6651-27ed-4c9a-8d7d-98766569d7f5"
   },
   "outputs": [
    {
     "data": {
      "image/png": "[encoded data removed]",
      "text/plain": [
       "<Figure size 2160x1440 with 9 Axes>"
      ]
     },
     "metadata": {
      "needs_background": "light"
     },
     "output_type": "display_data"
    }
   ],
   "source": [
    "figs, axes = plt.subplots(3, 3, figsize = (30, 20))\n",
    "for i, ax in enumerate(axes.ravel()):\n",
    "    if i > continuous.size - 1:\n",
    "        break \n",
    "    \n",
    "    ax.hist(X[continuous[i]], bins='auto')\n",
    "    ax.set_title(continuous[i].upper())\n",
    "    ax.set_xlabel(continuous[i])\n",
    "    ax.set_ylabel('number of samples')    "
   ]
  },
  {
   "cell_type": "markdown",
   "metadata": {
    "id": "ap_nQqAWCOcZ"
   },
   "source": [
    "the distribution of the target"
   ]
  },
  {
   "cell_type": "code",
   "execution_count": 245,
   "metadata": {
    "colab": {
     "base_uri": "https://localhost:8080/",
     "height": 265
    },
    "id": "6r-eCp0UCQ6i",
    "outputId": "04c9b3fd-a8b6-47f3-e79b-1f04923ec6d7"
   },
   "outputs": [
    {
     "data": {
      "image/png": "[encoded data removed]",
      "text/plain": [
       "<Figure size 432x288 with 1 Axes>"
      ]
     },
     "metadata": {
      "needs_background": "light"
     },
     "output_type": "display_data"
    }
   ],
   "source": [
    "plt.hist(y, bins='auto')\n",
    "plt.show()"
   ]
  },
  {
   "cell_type": "markdown",
   "metadata": {
    "id": "Dbkhq4LwGigC"
   },
   "source": [
    "# **Q3.**\n",
    "## Split data into training (70%), validation (10%), and test set (20%). \n",
    "## Do not use the test set until a final evaluation in 5.\n",
    "## Preprocess the data without using a pipeline and evaluate an initial Logistic Regression model with the training and validation split.\n"
   ]
  },
  {
   "cell_type": "code",
   "execution_count": 246,
   "metadata": {
    "colab": {
     "base_uri": "https://localhost:8080/",
     "height": 478
    },
    "id": "LJosySAswjpu",
    "outputId": "bc3e27c6-6a0f-4145-d432-ae05d3fe43e6"
   },
   "outputs": [
    {
     "data": {
      "text/html": [
       "<div>\n",
       "<style scoped>\n",
       "    .dataframe tbody tr th:only-of-type {\n",
       "        vertical-align: middle;\n",
       "    }\n",
       "\n",
       "    .dataframe tbody tr th {\n",
       "        vertical-align: top;\n",
       "    }\n",
       "\n",
       "    .dataframe thead th {\n",
       "        text-align: right;\n",
       "    }\n",
       "</style>\n",
       "<table border=\"1\" class=\"dataframe\">\n",
       "  <thead>\n",
       "    <tr style=\"text-align: right;\">\n",
       "      <th></th>\n",
       "      <th>duration</th>\n",
       "      <th>credit_amount</th>\n",
       "      <th>installment_commitment</th>\n",
       "      <th>residence_since</th>\n",
       "      <th>age</th>\n",
       "      <th>existing_credits</th>\n",
       "      <th>num_dependents</th>\n",
       "      <th>own_telephone</th>\n",
       "      <th>foreign_worker</th>\n",
       "      <th>checking_status_0&lt;=X&lt;200</th>\n",
       "      <th>checking_status_&gt;=200</th>\n",
       "      <th>checking_status_no checking</th>\n",
       "      <th>credit_history_all paid</th>\n",
       "      <th>credit_history_existing paid</th>\n",
       "      <th>credit_history_delayed previously</th>\n",
       "      <th>credit_history_critical/other existing credit</th>\n",
       "      <th>purpose_used car</th>\n",
       "      <th>purpose_furniture/equipment</th>\n",
       "      <th>purpose_radio/tv</th>\n",
       "      <th>purpose_domestic appliance</th>\n",
       "      <th>purpose_repairs</th>\n",
       "      <th>purpose_education</th>\n",
       "      <th>purpose_vacation</th>\n",
       "      <th>purpose_retraining</th>\n",
       "      <th>purpose_business</th>\n",
       "      <th>purpose_other</th>\n",
       "      <th>savings_status_100&lt;=X&lt;500</th>\n",
       "      <th>savings_status_500&lt;=X&lt;1000</th>\n",
       "      <th>savings_status_&gt;=1000</th>\n",
       "      <th>savings_status_no known savings</th>\n",
       "      <th>employment_&lt;1</th>\n",
       "      <th>employment_1&lt;=X&lt;4</th>\n",
       "      <th>employment_4&lt;=X&lt;7</th>\n",
       "      <th>employment_&gt;=7</th>\n",
       "      <th>personal_status_female div/dep/mar</th>\n",
       "      <th>personal_status_male single</th>\n",
       "      <th>personal_status_male mar/wid</th>\n",
       "      <th>personal_status_female single</th>\n",
       "      <th>other_parties_co applicant</th>\n",
       "      <th>other_parties_guarantor</th>\n",
       "      <th>property_magnitude_life insurance</th>\n",
       "      <th>property_magnitude_car</th>\n",
       "      <th>property_magnitude_no known property</th>\n",
       "      <th>other_payment_plans_stores</th>\n",
       "      <th>other_payment_plans_none</th>\n",
       "      <th>housing_own</th>\n",
       "      <th>housing_for free</th>\n",
       "      <th>job_unskilled resident</th>\n",
       "      <th>job_skilled</th>\n",
       "      <th>job_high qualif/self emp/mgmt</th>\n",
       "    </tr>\n",
       "  </thead>\n",
       "  <tbody>\n",
       "    <tr>\n",
       "      <th>0</th>\n",
       "      <td>6.0</td>\n",
       "      <td>1169.0</td>\n",
       "      <td>4.0</td>\n",
       "      <td>4.0</td>\n",
       "      <td>67.0</td>\n",
       "      <td>2.0</td>\n",
       "      <td>1.0</td>\n",
       "      <td>1</td>\n",
       "      <td>1</td>\n",
       "      <td>0</td>\n",
       "      <td>0</td>\n",
       "      <td>0</td>\n",
       "      <td>0</td>\n",
       "      <td>0</td>\n",
       "      <td>0</td>\n",
       "      <td>1</td>\n",
       "      <td>0</td>\n",
       "      <td>0</td>\n",
       "      <td>1</td>\n",
       "      <td>0</td>\n",
       "      <td>0</td>\n",
       "      <td>0</td>\n",
       "      <td>0</td>\n",
       "      <td>0</td>\n",
       "      <td>0</td>\n",
       "      <td>0</td>\n",
       "      <td>0</td>\n",
       "      <td>0</td>\n",
       "      <td>0</td>\n",
       "      <td>1</td>\n",
       "      <td>0</td>\n",
       "      <td>0</td>\n",
       "      <td>0</td>\n",
       "      <td>1</td>\n",
       "      <td>0</td>\n",
       "      <td>1</td>\n",
       "      <td>0</td>\n",
       "      <td>0</td>\n",
       "      <td>0</td>\n",
       "      <td>0</td>\n",
       "      <td>0</td>\n",
       "      <td>0</td>\n",
       "      <td>0</td>\n",
       "      <td>0</td>\n",
       "      <td>1</td>\n",
       "      <td>1</td>\n",
       "      <td>0</td>\n",
       "      <td>0</td>\n",
       "      <td>1</td>\n",
       "      <td>0</td>\n",
       "    </tr>\n",
       "    <tr>\n",
       "      <th>1</th>\n",
       "      <td>48.0</td>\n",
       "      <td>5951.0</td>\n",
       "      <td>2.0</td>\n",
       "      <td>2.0</td>\n",
       "      <td>22.0</td>\n",
       "      <td>1.0</td>\n",
       "      <td>1.0</td>\n",
       "      <td>0</td>\n",
       "      <td>1</td>\n",
       "      <td>1</td>\n",
       "      <td>0</td>\n",
       "      <td>0</td>\n",
       "      <td>0</td>\n",
       "      <td>1</td>\n",
       "      <td>0</td>\n",
       "      <td>0</td>\n",
       "      <td>0</td>\n",
       "      <td>0</td>\n",
       "      <td>1</td>\n",
       "      <td>0</td>\n",
       "      <td>0</td>\n",
       "      <td>0</td>\n",
       "      <td>0</td>\n",
       "      <td>0</td>\n",
       "      <td>0</td>\n",
       "      <td>0</td>\n",
       "      <td>0</td>\n",
       "      <td>0</td>\n",
       "      <td>0</td>\n",
       "      <td>0</td>\n",
       "      <td>0</td>\n",
       "      <td>1</td>\n",
       "      <td>0</td>\n",
       "      <td>0</td>\n",
       "      <td>1</td>\n",
       "      <td>0</td>\n",
       "      <td>0</td>\n",
       "      <td>0</td>\n",
       "      <td>0</td>\n",
       "      <td>0</td>\n",
       "      <td>0</td>\n",
       "      <td>0</td>\n",
       "      <td>0</td>\n",
       "      <td>0</td>\n",
       "      <td>1</td>\n",
       "      <td>1</td>\n",
       "      <td>0</td>\n",
       "      <td>0</td>\n",
       "      <td>1</td>\n",
       "      <td>0</td>\n",
       "    </tr>\n",
       "    <tr>\n",
       "      <th>2</th>\n",
       "      <td>12.0</td>\n",
       "      <td>2096.0</td>\n",
       "      <td>2.0</td>\n",
       "      <td>3.0</td>\n",
       "      <td>49.0</td>\n",
       "      <td>1.0</td>\n",
       "      <td>2.0</td>\n",
       "      <td>0</td>\n",
       "      <td>1</td>\n",
       "      <td>0</td>\n",
       "      <td>0</td>\n",
       "      <td>1</td>\n",
       "      <td>0</td>\n",
       "      <td>0</td>\n",
       "      <td>0</td>\n",
       "      <td>1</td>\n",
       "      <td>0</td>\n",
       "      <td>0</td>\n",
       "      <td>0</td>\n",
       "      <td>0</td>\n",
       "      <td>0</td>\n",
       "      <td>1</td>\n",
       "      <td>0</td>\n",
       "      <td>0</td>\n",
       "      <td>0</td>\n",
       "      <td>0</td>\n",
       "      <td>0</td>\n",
       "      <td>0</td>\n",
       "      <td>0</td>\n",
       "      <td>0</td>\n",
       "      <td>0</td>\n",
       "      <td>0</td>\n",
       "      <td>1</td>\n",
       "      <td>0</td>\n",
       "      <td>0</td>\n",
       "      <td>1</td>\n",
       "      <td>0</td>\n",
       "      <td>0</td>\n",
       "      <td>0</td>\n",
       "      <td>0</td>\n",
       "      <td>0</td>\n",
       "      <td>0</td>\n",
       "      <td>0</td>\n",
       "      <td>0</td>\n",
       "      <td>1</td>\n",
       "      <td>1</td>\n",
       "      <td>0</td>\n",
       "      <td>1</td>\n",
       "      <td>0</td>\n",
       "      <td>0</td>\n",
       "    </tr>\n",
       "    <tr>\n",
       "      <th>3</th>\n",
       "      <td>42.0</td>\n",
       "      <td>7882.0</td>\n",
       "      <td>2.0</td>\n",
       "      <td>4.0</td>\n",
       "      <td>45.0</td>\n",
       "      <td>1.0</td>\n",
       "      <td>2.0</td>\n",
       "      <td>0</td>\n",
       "      <td>1</td>\n",
       "      <td>0</td>\n",
       "      <td>0</td>\n",
       "      <td>0</td>\n",
       "      <td>0</td>\n",
       "      <td>1</td>\n",
       "      <td>0</td>\n",
       "      <td>0</td>\n",
       "      <td>0</td>\n",
       "      <td>1</td>\n",
       "      <td>0</td>\n",
       "      <td>0</td>\n",
       "      <td>0</td>\n",
       "      <td>0</td>\n",
       "      <td>0</td>\n",
       "      <td>0</td>\n",
       "      <td>0</td>\n",
       "      <td>0</td>\n",
       "      <td>0</td>\n",
       "      <td>0</td>\n",
       "      <td>0</td>\n",
       "      <td>0</td>\n",
       "      <td>0</td>\n",
       "      <td>0</td>\n",
       "      <td>1</td>\n",
       "      <td>0</td>\n",
       "      <td>0</td>\n",
       "      <td>1</td>\n",
       "      <td>0</td>\n",
       "      <td>0</td>\n",
       "      <td>0</td>\n",
       "      <td>1</td>\n",
       "      <td>1</td>\n",
       "      <td>0</td>\n",
       "      <td>0</td>\n",
       "      <td>0</td>\n",
       "      <td>1</td>\n",
       "      <td>0</td>\n",
       "      <td>1</td>\n",
       "      <td>0</td>\n",
       "      <td>1</td>\n",
       "      <td>0</td>\n",
       "    </tr>\n",
       "    <tr>\n",
       "      <th>4</th>\n",
       "      <td>24.0</td>\n",
       "      <td>4870.0</td>\n",
       "      <td>3.0</td>\n",
       "      <td>4.0</td>\n",
       "      <td>53.0</td>\n",
       "      <td>2.0</td>\n",
       "      <td>2.0</td>\n",
       "      <td>0</td>\n",
       "      <td>1</td>\n",
       "      <td>0</td>\n",
       "      <td>0</td>\n",
       "      <td>0</td>\n",
       "      <td>0</td>\n",
       "      <td>0</td>\n",
       "      <td>1</td>\n",
       "      <td>0</td>\n",
       "      <td>0</td>\n",
       "      <td>0</td>\n",
       "      <td>0</td>\n",
       "      <td>0</td>\n",
       "      <td>0</td>\n",
       "      <td>0</td>\n",
       "      <td>0</td>\n",
       "      <td>0</td>\n",
       "      <td>0</td>\n",
       "      <td>0</td>\n",
       "      <td>0</td>\n",
       "      <td>0</td>\n",
       "      <td>0</td>\n",
       "      <td>0</td>\n",
       "      <td>0</td>\n",
       "      <td>1</td>\n",
       "      <td>0</td>\n",
       "      <td>0</td>\n",
       "      <td>0</td>\n",
       "      <td>1</td>\n",
       "      <td>0</td>\n",
       "      <td>0</td>\n",
       "      <td>0</td>\n",
       "      <td>0</td>\n",
       "      <td>0</td>\n",
       "      <td>0</td>\n",
       "      <td>1</td>\n",
       "      <td>0</td>\n",
       "      <td>1</td>\n",
       "      <td>0</td>\n",
       "      <td>1</td>\n",
       "      <td>0</td>\n",
       "      <td>1</td>\n",
       "      <td>0</td>\n",
       "    </tr>\n",
       "    <tr>\n",
       "      <th>...</th>\n",
       "      <td>...</td>\n",
       "      <td>...</td>\n",
       "      <td>...</td>\n",
       "      <td>...</td>\n",
       "      <td>...</td>\n",
       "      <td>...</td>\n",
       "      <td>...</td>\n",
       "      <td>...</td>\n",
       "      <td>...</td>\n",
       "      <td>...</td>\n",
       "      <td>...</td>\n",
       "      <td>...</td>\n",
       "      <td>...</td>\n",
       "      <td>...</td>\n",
       "      <td>...</td>\n",
       "      <td>...</td>\n",
       "      <td>...</td>\n",
       "      <td>...</td>\n",
       "      <td>...</td>\n",
       "      <td>...</td>\n",
       "      <td>...</td>\n",
       "      <td>...</td>\n",
       "      <td>...</td>\n",
       "      <td>...</td>\n",
       "      <td>...</td>\n",
       "      <td>...</td>\n",
       "      <td>...</td>\n",
       "      <td>...</td>\n",
       "      <td>...</td>\n",
       "      <td>...</td>\n",
       "      <td>...</td>\n",
       "      <td>...</td>\n",
       "      <td>...</td>\n",
       "      <td>...</td>\n",
       "      <td>...</td>\n",
       "      <td>...</td>\n",
       "      <td>...</td>\n",
       "      <td>...</td>\n",
       "      <td>...</td>\n",
       "      <td>...</td>\n",
       "      <td>...</td>\n",
       "      <td>...</td>\n",
       "      <td>...</td>\n",
       "      <td>...</td>\n",
       "      <td>...</td>\n",
       "      <td>...</td>\n",
       "      <td>...</td>\n",
       "      <td>...</td>\n",
       "      <td>...</td>\n",
       "      <td>...</td>\n",
       "    </tr>\n",
       "    <tr>\n",
       "      <th>995</th>\n",
       "      <td>12.0</td>\n",
       "      <td>1736.0</td>\n",
       "      <td>3.0</td>\n",
       "      <td>4.0</td>\n",
       "      <td>31.0</td>\n",
       "      <td>1.0</td>\n",
       "      <td>1.0</td>\n",
       "      <td>0</td>\n",
       "      <td>1</td>\n",
       "      <td>0</td>\n",
       "      <td>0</td>\n",
       "      <td>1</td>\n",
       "      <td>0</td>\n",
       "      <td>1</td>\n",
       "      <td>0</td>\n",
       "      <td>0</td>\n",
       "      <td>0</td>\n",
       "      <td>1</td>\n",
       "      <td>0</td>\n",
       "      <td>0</td>\n",
       "      <td>0</td>\n",
       "      <td>0</td>\n",
       "      <td>0</td>\n",
       "      <td>0</td>\n",
       "      <td>0</td>\n",
       "      <td>0</td>\n",
       "      <td>0</td>\n",
       "      <td>0</td>\n",
       "      <td>0</td>\n",
       "      <td>0</td>\n",
       "      <td>0</td>\n",
       "      <td>0</td>\n",
       "      <td>1</td>\n",
       "      <td>0</td>\n",
       "      <td>1</td>\n",
       "      <td>0</td>\n",
       "      <td>0</td>\n",
       "      <td>0</td>\n",
       "      <td>0</td>\n",
       "      <td>0</td>\n",
       "      <td>0</td>\n",
       "      <td>0</td>\n",
       "      <td>0</td>\n",
       "      <td>0</td>\n",
       "      <td>1</td>\n",
       "      <td>1</td>\n",
       "      <td>0</td>\n",
       "      <td>1</td>\n",
       "      <td>0</td>\n",
       "      <td>0</td>\n",
       "    </tr>\n",
       "    <tr>\n",
       "      <th>996</th>\n",
       "      <td>30.0</td>\n",
       "      <td>3857.0</td>\n",
       "      <td>4.0</td>\n",
       "      <td>4.0</td>\n",
       "      <td>40.0</td>\n",
       "      <td>1.0</td>\n",
       "      <td>1.0</td>\n",
       "      <td>1</td>\n",
       "      <td>1</td>\n",
       "      <td>0</td>\n",
       "      <td>0</td>\n",
       "      <td>0</td>\n",
       "      <td>0</td>\n",
       "      <td>1</td>\n",
       "      <td>0</td>\n",
       "      <td>0</td>\n",
       "      <td>1</td>\n",
       "      <td>0</td>\n",
       "      <td>0</td>\n",
       "      <td>0</td>\n",
       "      <td>0</td>\n",
       "      <td>0</td>\n",
       "      <td>0</td>\n",
       "      <td>0</td>\n",
       "      <td>0</td>\n",
       "      <td>0</td>\n",
       "      <td>0</td>\n",
       "      <td>0</td>\n",
       "      <td>0</td>\n",
       "      <td>0</td>\n",
       "      <td>0</td>\n",
       "      <td>1</td>\n",
       "      <td>0</td>\n",
       "      <td>0</td>\n",
       "      <td>0</td>\n",
       "      <td>0</td>\n",
       "      <td>0</td>\n",
       "      <td>0</td>\n",
       "      <td>0</td>\n",
       "      <td>0</td>\n",
       "      <td>1</td>\n",
       "      <td>0</td>\n",
       "      <td>0</td>\n",
       "      <td>0</td>\n",
       "      <td>1</td>\n",
       "      <td>1</td>\n",
       "      <td>0</td>\n",
       "      <td>0</td>\n",
       "      <td>0</td>\n",
       "      <td>1</td>\n",
       "    </tr>\n",
       "    <tr>\n",
       "      <th>997</th>\n",
       "      <td>12.0</td>\n",
       "      <td>804.0</td>\n",
       "      <td>4.0</td>\n",
       "      <td>4.0</td>\n",
       "      <td>38.0</td>\n",
       "      <td>1.0</td>\n",
       "      <td>1.0</td>\n",
       "      <td>0</td>\n",
       "      <td>1</td>\n",
       "      <td>0</td>\n",
       "      <td>0</td>\n",
       "      <td>1</td>\n",
       "      <td>0</td>\n",
       "      <td>1</td>\n",
       "      <td>0</td>\n",
       "      <td>0</td>\n",
       "      <td>0</td>\n",
       "      <td>0</td>\n",
       "      <td>1</td>\n",
       "      <td>0</td>\n",
       "      <td>0</td>\n",
       "      <td>0</td>\n",
       "      <td>0</td>\n",
       "      <td>0</td>\n",
       "      <td>0</td>\n",
       "      <td>0</td>\n",
       "      <td>0</td>\n",
       "      <td>0</td>\n",
       "      <td>0</td>\n",
       "      <td>0</td>\n",
       "      <td>0</td>\n",
       "      <td>0</td>\n",
       "      <td>0</td>\n",
       "      <td>1</td>\n",
       "      <td>0</td>\n",
       "      <td>1</td>\n",
       "      <td>0</td>\n",
       "      <td>0</td>\n",
       "      <td>0</td>\n",
       "      <td>0</td>\n",
       "      <td>0</td>\n",
       "      <td>1</td>\n",
       "      <td>0</td>\n",
       "      <td>0</td>\n",
       "      <td>1</td>\n",
       "      <td>1</td>\n",
       "      <td>0</td>\n",
       "      <td>0</td>\n",
       "      <td>1</td>\n",
       "      <td>0</td>\n",
       "    </tr>\n",
       "    <tr>\n",
       "      <th>998</th>\n",
       "      <td>45.0</td>\n",
       "      <td>1845.0</td>\n",
       "      <td>4.0</td>\n",
       "      <td>4.0</td>\n",
       "      <td>23.0</td>\n",
       "      <td>1.0</td>\n",
       "      <td>1.0</td>\n",
       "      <td>1</td>\n",
       "      <td>1</td>\n",
       "      <td>0</td>\n",
       "      <td>0</td>\n",
       "      <td>0</td>\n",
       "      <td>0</td>\n",
       "      <td>1</td>\n",
       "      <td>0</td>\n",
       "      <td>0</td>\n",
       "      <td>0</td>\n",
       "      <td>0</td>\n",
       "      <td>1</td>\n",
       "      <td>0</td>\n",
       "      <td>0</td>\n",
       "      <td>0</td>\n",
       "      <td>0</td>\n",
       "      <td>0</td>\n",
       "      <td>0</td>\n",
       "      <td>0</td>\n",
       "      <td>0</td>\n",
       "      <td>0</td>\n",
       "      <td>0</td>\n",
       "      <td>0</td>\n",
       "      <td>0</td>\n",
       "      <td>1</td>\n",
       "      <td>0</td>\n",
       "      <td>0</td>\n",
       "      <td>0</td>\n",
       "      <td>1</td>\n",
       "      <td>0</td>\n",
       "      <td>0</td>\n",
       "      <td>0</td>\n",
       "      <td>0</td>\n",
       "      <td>0</td>\n",
       "      <td>0</td>\n",
       "      <td>1</td>\n",
       "      <td>0</td>\n",
       "      <td>1</td>\n",
       "      <td>0</td>\n",
       "      <td>1</td>\n",
       "      <td>0</td>\n",
       "      <td>1</td>\n",
       "      <td>0</td>\n",
       "    </tr>\n",
       "    <tr>\n",
       "      <th>999</th>\n",
       "      <td>45.0</td>\n",
       "      <td>4576.0</td>\n",
       "      <td>3.0</td>\n",
       "      <td>4.0</td>\n",
       "      <td>27.0</td>\n",
       "      <td>1.0</td>\n",
       "      <td>1.0</td>\n",
       "      <td>0</td>\n",
       "      <td>1</td>\n",
       "      <td>1</td>\n",
       "      <td>0</td>\n",
       "      <td>0</td>\n",
       "      <td>0</td>\n",
       "      <td>0</td>\n",
       "      <td>0</td>\n",
       "      <td>1</td>\n",
       "      <td>1</td>\n",
       "      <td>0</td>\n",
       "      <td>0</td>\n",
       "      <td>0</td>\n",
       "      <td>0</td>\n",
       "      <td>0</td>\n",
       "      <td>0</td>\n",
       "      <td>0</td>\n",
       "      <td>0</td>\n",
       "      <td>0</td>\n",
       "      <td>1</td>\n",
       "      <td>0</td>\n",
       "      <td>0</td>\n",
       "      <td>0</td>\n",
       "      <td>0</td>\n",
       "      <td>0</td>\n",
       "      <td>0</td>\n",
       "      <td>0</td>\n",
       "      <td>0</td>\n",
       "      <td>1</td>\n",
       "      <td>0</td>\n",
       "      <td>0</td>\n",
       "      <td>0</td>\n",
       "      <td>0</td>\n",
       "      <td>0</td>\n",
       "      <td>1</td>\n",
       "      <td>0</td>\n",
       "      <td>0</td>\n",
       "      <td>1</td>\n",
       "      <td>1</td>\n",
       "      <td>0</td>\n",
       "      <td>0</td>\n",
       "      <td>1</td>\n",
       "      <td>0</td>\n",
       "    </tr>\n",
       "  </tbody>\n",
       "</table>\n",
       "<p>1000 rows × 50 columns</p>\n",
       "</div>"
      ],
      "text/plain": [
       "     duration  credit_amount  ...  job_skilled  job_high qualif/self emp/mgmt\n",
       "0         6.0         1169.0  ...            1                              0\n",
       "1        48.0         5951.0  ...            1                              0\n",
       "2        12.0         2096.0  ...            0                              0\n",
       "3        42.0         7882.0  ...            1                              0\n",
       "4        24.0         4870.0  ...            1                              0\n",
       "..        ...            ...  ...          ...                            ...\n",
       "995      12.0         1736.0  ...            0                              0\n",
       "996      30.0         3857.0  ...            0                              1\n",
       "997      12.0          804.0  ...            1                              0\n",
       "998      45.0         1845.0  ...            1                              0\n",
       "999      45.0         4576.0  ...            1                              0\n",
       "\n",
       "[1000 rows x 50 columns]"
      ]
     },
     "execution_count": 246,
     "metadata": {},
     "output_type": "execute_result"
    }
   ],
   "source": [
    "# 0, 1로 mapping 되는 categorical features들은 label encoding\n",
    "# 3개 이상의 정수로 mapping 되는 features들은 더미화 한다.\n",
    "\n",
    "def category_encoding(data, category):\n",
    "    le = LabelEncoder()\n",
    "    for column in category:\n",
    "        temp = set(data[column])\n",
    "        if len(temp) == 2:\n",
    "            data[column] = le.fit_transform(data[column])\n",
    "        else:\n",
    "            data = pd.get_dummies(data, columns = [column], drop_first=True)\n",
    "    \n",
    "    return data\n",
    "\n",
    "X = category_encoding(X, categorical)\n",
    "X"
   ]
  },
  {
   "cell_type": "code",
   "execution_count": 247,
   "metadata": {
    "id": "khfHvVKHxp0Y"
   },
   "outputs": [],
   "source": [
    "def train_val_test_splt(X, y, test_size=0.2, val_size = 0.1):\n",
    "    X_temp, X_test, y_temp, y_test = train_test_split(X, y, test_size=test_size, \n",
    "                         shuffle=True, random_state=123, stratify=y)\n",
    "    X_train, X_val, y_train, y_val = train_test_split(X_temp, y_temp, test_size=val_size/(1-test_size),\n",
    "                         shuffle=True, random_state=123, stratify=y_temp)\n",
    "\n",
    "    return X_train, X_val, X_test, y_train, y_val, y_test"
   ]
  },
  {
   "cell_type": "code",
   "execution_count": 248,
   "metadata": {
    "id": "i9Jhij-q-ilq"
   },
   "outputs": [],
   "source": [
    "X_train, X_val, X_test, y_train, y_val, y_test = train_val_test_splt(X, y, test_size=0.2, val_size = 0.1)"
   ]
  },
  {
   "cell_type": "code",
   "execution_count": 249,
   "metadata": {
    "colab": {
     "base_uri": "https://localhost:8080/"
    },
    "id": "eDFH3AZcxudF",
    "outputId": "456a756f-9dc7-4599-efc2-1fe78cd758ef"
   },
   "outputs": [
    {
     "data": {
      "text/plain": [
       "((700, 50), (100, 50), (200, 50))"
      ]
     },
     "execution_count": 249,
     "metadata": {},
     "output_type": "execute_result"
    }
   ],
   "source": [
    "X_train.shape, X_val.shape, X_test.shape"
   ]
  },
  {
   "cell_type": "code",
   "execution_count": 250,
   "metadata": {
    "colab": {
     "base_uri": "https://localhost:8080/"
    },
    "id": "JAXBjR1MMnuy",
    "outputId": "2107d454-c1aa-4b5d-b16d-2b02dc519cfc"
   },
   "outputs": [
    {
     "name": "stdout",
     "output_type": "stream",
     "text": [
      "0.73\n"
     ]
    }
   ],
   "source": [
    "model = LogisticRegression(max_iter=1000)\n",
    "model.fit(X_train, y_train)\n",
    "print(model.score(X_val, y_val))"
   ]
  },
  {
   "cell_type": "markdown",
   "metadata": {
    "id": "VLovkR6WyZqa"
   },
   "source": [
    "# **Q4.**\n",
    "## Use ColumnTransformer and pipeline to encode categorical variables (your choice of OneHotEncoder or another one from the categorical_encoder package, or both). \n",
    "## Evaluate Logistic Regression, Linear Support Vector Machines and Random Forests using cross-validation. \n",
    "## How different are the results? \n",
    "## How does scaling the continuous features with StandardScaler influence the results?"
   ]
  },
  {
   "cell_type": "code",
   "execution_count": 251,
   "metadata": {
    "id": "CYSD9G0q94CT"
   },
   "outputs": [],
   "source": [
    "X = data.data\n",
    "y = data.target"
   ]
  },
  {
   "cell_type": "code",
   "execution_count": 304,
   "metadata": {
    "colab": {
     "base_uri": "https://localhost:8080/"
    },
    "id": "T74Pxybx-4ek",
    "outputId": "e66928f5-2bd4-4de8-e45f-8937707cd038"
   },
   "outputs": [
    {
     "data": {
      "text/plain": [
       "((800, 20), (200, 20), (800,))"
      ]
     },
     "execution_count": 304,
     "metadata": {},
     "output_type": "execute_result"
    }
   ],
   "source": [
    "X_train, X_test, y_train, y_test = train_test_split(X, y, test_size=0.2, random_state=100)\n",
    "X_train.shape, X_test.shape, y_train.shape"
   ]
  },
  {
   "cell_type": "code",
   "execution_count": 253,
   "metadata": {
    "id": "nSb0MgkLyfRP"
   },
   "outputs": [],
   "source": [
    "from sklearn.base import BaseEstimator, TransformerMixin\n",
    "from sklearn.preprocessing import OneHotEncoder\n",
    "\n",
    "class DataFrameSelector(BaseEstimator, TransformerMixin):\n",
    "    def __init__(self, attribute_names):\n",
    "        self.attribute_names = attribute_names\n",
    "    def fit(self, X, y=None):\n",
    "        return self\n",
    "    def transform(self, X):\n",
    "        return X[self.attribute_names].values"
   ]
  },
  {
   "cell_type": "code",
   "execution_count": 254,
   "metadata": {
    "id": "K3OVcCrv6msY"
   },
   "outputs": [],
   "source": [
    "num_pipeline = Pipeline([   # not scaling\n",
    "        ('selector', DataFrameSelector(continuous))\n",
    "    ])\n",
    "\n",
    "num_pipeline_scale = Pipeline([\n",
    "        ('selector', DataFrameSelector(continuous)),\n",
    "        ('std_scaler', StandardScaler())\n",
    "    ])\n",
    "\n",
    "cat_pipeline = Pipeline([\n",
    "        ('selector', DataFrameSelector(categorical)),\n",
    "        ('cat_encoder', OneHotEncoder(categories='auto', sparse=False))\n",
    "    ])\n",
    "\n",
    "preprocessor = ColumnTransformer([  # not scaling\n",
    "        (\"num_pipeline\", num_pipeline, continuous),\n",
    "        (\"cat_pipeline\", cat_pipeline, categorical),\n",
    "    ])\n",
    "\n",
    "preprocessor_scale = ColumnTransformer([\n",
    "        (\"num_pipeline\", num_pipeline_scale, continuous),\n",
    "        (\"cat_pipeline\", cat_pipeline, categorical),\n",
    "    ])"
   ]
  },
  {
   "cell_type": "code",
   "execution_count": 48,
   "metadata": {
    "colab": {
     "base_uri": "https://localhost:8080/"
    },
    "id": "kjyMPkc7Jjg0",
    "outputId": "c1dfcd55-cb73-4cc7-a75d-e14e2c77f7a0"
   },
   "outputs": [
    {
     "name": "stdout",
     "output_type": "stream",
     "text": [
      "non scale score :0.7474999999999999, scale score : 0.7525\n"
     ]
    }
   ],
   "source": [
    "lr = LogisticRegression(max_iter=1000, random_state=123)\n",
    "\n",
    "lr_pipe = make_pipeline(preprocessor, lr)\n",
    "lr_pipe_scale = lr_pipe_scale = make_pipeline(preprocessor_scale, lr)\n",
    "\n",
    "scores = cross_val_score(lr_pipe, X_train, y_train)\n",
    "scores_scale = cross_val_score(lr_pipe_scale, X_train, y_train)\n",
    "print(f'non scale score :{np.mean(scores)}, scale score : {np.mean(scores_scale)}')"
   ]
  },
  {
   "cell_type": "code",
   "execution_count": 49,
   "metadata": {
    "colab": {
     "base_uri": "https://localhost:8080/"
    },
    "id": "rX5fAbwkLBl3",
    "outputId": "95dc6b7b-fd03-49d1-d287-adb038b0c3b9"
   },
   "outputs": [
    {
     "name": "stderr",
     "output_type": "stream",
     "text": [
      "/usr/local/lib/python3.7/dist-packages/sklearn/svm/_base.py:1208: ConvergenceWarning: Liblinear failed to converge, increase the number of iterations.\n",
      "  ConvergenceWarning,\n",
      "/usr/local/lib/python3.7/dist-packages/sklearn/svm/_base.py:1208: ConvergenceWarning: Liblinear failed to converge, increase the number of iterations.\n",
      "  ConvergenceWarning,\n",
      "/usr/local/lib/python3.7/dist-packages/sklearn/svm/_base.py:1208: ConvergenceWarning: Liblinear failed to converge, increase the number of iterations.\n",
      "  ConvergenceWarning,\n",
      "/usr/local/lib/python3.7/dist-packages/sklearn/svm/_base.py:1208: ConvergenceWarning: Liblinear failed to converge, increase the number of iterations.\n",
      "  ConvergenceWarning,\n",
      "/usr/local/lib/python3.7/dist-packages/sklearn/svm/_base.py:1208: ConvergenceWarning: Liblinear failed to converge, increase the number of iterations.\n",
      "  ConvergenceWarning,\n"
     ]
    },
    {
     "name": "stdout",
     "output_type": "stream",
     "text": [
      "non scale score :0.5912499999999999, scale score : 0.7499999999999999\n"
     ]
    }
   ],
   "source": [
    "svm = LinearSVC(max_iter=100000, random_state=123)\n",
    "\n",
    "svm_pipe = make_pipeline(preprocessor, svm)\n",
    "svm_pipe_scale = make_pipeline(preprocessor_scale, svm)\n",
    "\n",
    "scores = cross_val_score(svm_pipe, X_train, y_train)\n",
    "scores_scale = cross_val_score(svm_pipe_scale, X_train, y_train)\n",
    "print(f'non scale score :{np.mean(scores)}, scale score : {np.mean(scores_scale)}')"
   ]
  },
  {
   "cell_type": "code",
   "execution_count": 52,
   "metadata": {
    "colab": {
     "base_uri": "https://localhost:8080/"
    },
    "id": "DGyLlAVJ5pqq",
    "outputId": "7914c7d7-f27a-4f52-fcf8-99bd2ef55fe1"
   },
   "outputs": [
    {
     "name": "stdout",
     "output_type": "stream",
     "text": [
      "non scale score :0.7575000000000001, scale score : 0.75875\n"
     ]
    }
   ],
   "source": [
    "rf = RandomForestClassifier(random_state=123)\n",
    "\n",
    "rf_pipe = make_pipeline(preprocessor, rf)\n",
    "rf_pipe_scale = make_pipeline(preprocessor_scale, rf)\n",
    "\n",
    "scores = cross_val_score(rf_pipe, X_train, y_train)\n",
    "scores_scale = cross_val_score(rf_pipe_scale, X_train, y_train)\n",
    "print(f'non scale score :{np.mean(scores)}, scale score : {np.mean(scores_scale)}')"
   ]
  },
  {
   "cell_type": "markdown",
   "metadata": {
    "id": "rFT-PXTQImML"
   },
   "source": [
    "continuous한 data는 각각의 편차가 크기에 scale의 유무가 점수에 크게 반영되었다. 실제로 random state값을 바꿔줬을 때, 특히 LinearSVC모델이 score에서 차이가 두드러졌다."
   ]
  },
  {
   "cell_type": "markdown",
   "metadata": {
    "id": "8bM3PAmXNDg5"
   },
   "source": [
    "# **Q5.**\n",
    "## Tune the parameters using GridSearchCV. Do the results improve?\n",
    "## Evaluate only the be model on the test set. \n",
    "## And visualize the performance as function of the parameters for all three models.\n"
   ]
  },
  {
   "cell_type": "code",
   "execution_count": 307,
   "metadata": {
    "id": "otU7_JzVQgSg"
   },
   "outputs": [],
   "source": [
    "X_train = preprocessor_scale.fit_transform(X_train)\n",
    "X_test = preprocessor_scale.transform(X_test)"
   ]
  },
  {
   "cell_type": "code",
   "execution_count": 308,
   "metadata": {
    "colab": {
     "base_uri": "https://localhost:8080/"
    },
    "id": "y0hSqNeoROj-",
    "outputId": "f90125f2-19dc-45cc-d0dd-3200a9759a1b"
   },
   "outputs": [
    {
     "data": {
      "text/plain": [
       "((800, 61), (200, 61))"
      ]
     },
     "execution_count": 308,
     "metadata": {},
     "output_type": "execute_result"
    }
   ],
   "source": [
    "X_train.shape, X_test.shape"
   ]
  },
  {
   "cell_type": "code",
   "execution_count": 309,
   "metadata": {
    "id": "zjG5y1OuNyVc"
   },
   "outputs": [],
   "source": [
    "lr = LogisticRegression(max_iter=1000, random_state=123)\n",
    "svc = LinearSVC(max_iter=100000, random_state=123)\n",
    "rf = RandomForestClassifier(random_state=123)"
   ]
  },
  {
   "cell_type": "markdown",
   "metadata": {
    "id": "3H2Pykpufai3"
   },
   "source": [
    "## Logistic Regression"
   ]
  },
  {
   "cell_type": "code",
   "execution_count": 310,
   "metadata": {
    "colab": {
     "base_uri": "https://localhost:8080/"
    },
    "id": "6EH3nrjYNbjB",
    "outputId": "6a83b324-5327-4fea-968c-4c27edc79279"
   },
   "outputs": [
    {
     "data": {
      "text/plain": [
       "0.76"
      ]
     },
     "execution_count": 310,
     "metadata": {},
     "output_type": "execute_result"
    }
   ],
   "source": [
    "param_grid_lr = {'C' : np.logspace(-3, 3, 30)}\n",
    "\n",
    "grid_lr = GridSearchCV(lr, param_grid_lr)\n",
    "grid_lr.fit(X_train, y_train)\n",
    "grid_lr.score(X_test, y_test)"
   ]
  },
  {
   "cell_type": "code",
   "execution_count": 104,
   "metadata": {
    "colab": {
     "base_uri": "https://localhost:8080/",
     "height": 302
    },
    "id": "aEm5kOD1eqLl",
    "outputId": "b5239a66-1faa-4ba7-f1d6-6816873f98d7"
   },
   "outputs": [
    {
     "data": {
      "text/plain": [
       "<matplotlib.axes._subplots.AxesSubplot at 0x7f21c4c19750>"
      ]
     },
     "execution_count": 104,
     "metadata": {},
     "output_type": "execute_result"
    },
    {
     "data": {
      "image/png": "[encoded data removed]",
      "text/plain": [
       "<Figure size 432x288 with 1 Axes>"
      ]
     },
     "metadata": {
      "needs_background": "light"
     },
     "output_type": "display_data"
    }
   ],
   "source": [
    "scores = pd.DataFrame(grid_lr.cv_results_)\n",
    "plt.xscale('log')\n",
    "scores.plot(x='param_C', y='mean_test_score', yerr='std_test_score', ax=plt.gca())"
   ]
  },
  {
   "cell_type": "code",
   "execution_count": 293,
   "metadata": {
    "colab": {
     "base_uri": "https://localhost:8080/"
    },
    "id": "3Kke4cvC4Pn_",
    "outputId": "2b117caa-d258-4fe4-ce28-2a493003735e"
   },
   "outputs": [
    {
     "data": {
      "text/plain": [
       "{'C': 0.3039195382313198}"
      ]
     },
     "execution_count": 293,
     "metadata": {},
     "output_type": "execute_result"
    }
   ],
   "source": [
    "grid_lr.best_params_"
   ]
  },
  {
   "cell_type": "markdown",
   "metadata": {
    "id": "iARsDPcWfiAd"
   },
   "source": [
    "## LinearSVC"
   ]
  },
  {
   "cell_type": "code",
   "execution_count": 294,
   "metadata": {
    "colab": {
     "base_uri": "https://localhost:8080/"
    },
    "id": "4LWji0w9MrI4",
    "outputId": "36393d74-a89d-4f25-ab64-a919617c778e"
   },
   "outputs": [
    {
     "data": {
      "text/plain": [
       "0.765"
      ]
     },
     "execution_count": 294,
     "metadata": {},
     "output_type": "execute_result"
    }
   ],
   "source": [
    "import warnings\n",
    "warnings.filterwarnings('ignore')\n",
    "\n",
    "param_grid_svc = {'C' : np.logspace(-3, 3, 30)}\n",
    "\n",
    "grid_svc = GridSearchCV(svc, param_grid_svc, return_train_score=True)\n",
    "grid_svc.fit(X_train, y_train)\n",
    "grid_svc.score(X_test, y_test)"
   ]
  },
  {
   "cell_type": "code",
   "execution_count": 295,
   "metadata": {
    "colab": {
     "base_uri": "https://localhost:8080/",
     "height": 302
    },
    "id": "aX77DYBCetAB",
    "outputId": "76db591b-4b37-45ac-d1df-b01d6287b6d0"
   },
   "outputs": [
    {
     "data": {
      "text/plain": [
       "<matplotlib.axes._subplots.AxesSubplot at 0x7f21cef4c4d0>"
      ]
     },
     "execution_count": 295,
     "metadata": {},
     "output_type": "execute_result"
    },
    {
     "data": {
      "image/png": "[encoded data removed]",
      "text/plain": [
       "<Figure size 432x288 with 1 Axes>"
      ]
     },
     "metadata": {
      "needs_background": "light"
     },
     "output_type": "display_data"
    }
   ],
   "source": [
    "scores = pd.DataFrame(grid_svc.cv_results_)\n",
    "plt.xscale('log')\n",
    "scores.plot(x='param_C', y='mean_test_score', yerr='std_test_score', ax=plt.gca())"
   ]
  },
  {
   "cell_type": "code",
   "execution_count": 296,
   "metadata": {
    "colab": {
     "base_uri": "https://localhost:8080/"
    },
    "id": "ZGG2MiL54km_",
    "outputId": "4829f9e0-ad7b-4c3e-bcc1-cdba7599f002"
   },
   "outputs": [
    {
     "data": {
      "text/plain": [
       "{'C': 0.02807216203941177}"
      ]
     },
     "execution_count": 296,
     "metadata": {},
     "output_type": "execute_result"
    }
   ],
   "source": [
    "grid_svc.best_params_"
   ]
  },
  {
   "cell_type": "markdown",
   "metadata": {
    "id": "6obhOxL_4eoL"
   },
   "source": [
    "## Random Forest"
   ]
  },
  {
   "cell_type": "code",
   "execution_count": 115,
   "metadata": {
    "colab": {
     "base_uri": "https://localhost:8080/"
    },
    "id": "zjez1cwZS8_5",
    "outputId": "76669982-480d-452b-85d3-583870be2141"
   },
   "outputs": [
    {
     "data": {
      "text/plain": [
       "0.77"
      ]
     },
     "execution_count": 115,
     "metadata": {},
     "output_type": "execute_result"
    }
   ],
   "source": [
    "param_grid_rf = {'n_estimators' : range(10, 100, 4)}\n",
    "\n",
    "grid_rf = GridSearchCV(rf, param_grid_rf)\n",
    "grid_rf.fit(X_train, y_train)\n",
    "grid_rf.score(X_test, y_test)"
   ]
  },
  {
   "cell_type": "code",
   "execution_count": 116,
   "metadata": {
    "colab": {
     "base_uri": "https://localhost:8080/",
     "height": 298
    },
    "id": "nsfguEate4jy",
    "outputId": "262d8d92-d191-4a4f-d8c0-5ab565634fb1"
   },
   "outputs": [
    {
     "data": {
      "text/plain": [
       "<matplotlib.axes._subplots.AxesSubplot at 0x7f21c3843910>"
      ]
     },
     "execution_count": 116,
     "metadata": {},
     "output_type": "execute_result"
    },
    {
     "data": {
      "image/png": "[encoded data removed]",
      "text/plain": [
       "<Figure size 432x288 with 1 Axes>"
      ]
     },
     "metadata": {
      "needs_background": "light"
     },
     "output_type": "display_data"
    }
   ],
   "source": [
    "scores = pd.DataFrame(grid_rf.cv_results_)\n",
    "scores.plot(x='param_n_estimators', y='mean_test_score', yerr='std_test_score', ax=plt.gca())"
   ]
  },
  {
   "cell_type": "code",
   "execution_count": 297,
   "metadata": {
    "colab": {
     "base_uri": "https://localhost:8080/"
    },
    "id": "45PARtLj4pb9",
    "outputId": "1c98ca86-35f3-4a57-f634-823042e3aa4c"
   },
   "outputs": [
    {
     "data": {
      "text/plain": [
       "{'n_estimators': 58}"
      ]
     },
     "execution_count": 297,
     "metadata": {},
     "output_type": "execute_result"
    }
   ],
   "source": [
    "grid_rf.best_params_"
   ]
  },
  {
   "cell_type": "markdown",
   "metadata": {
    "id": "cEGB47DNZFq-"
   },
   "source": [
    "grid search를 통해 더 많은 파라미터를 조정할 수도 있을 것이고, 내가 찾은 최적의 파라미터보다 더 나은 파라미터가 존재할 수도 있다. 그러나 이 정도의 gridsearch만으로도 score가 향상되었음은 확인할 수 있다."
   ]
  },
  {
   "cell_type": "markdown",
   "metadata": {
    "id": "EAHP-k1EfVcO"
   },
   "source": [
    "# **Q6**\n",
    "## Change the cross-validation strategy from ‘stratified k-fold’ to ‘kfold’ with shuffling. \n",
    "## Do the parameters that are found change? Do they change if you change the random seed of the shuffling? Or if you change the random state of the split into training and test data?"
   ]
  },
  {
   "cell_type": "code",
   "execution_count": 317,
   "metadata": {
    "id": "JvmGwj8z31YA"
   },
   "outputs": [],
   "source": [
    "lr = LogisticRegression(max_iter=1000, random_state=123)\n",
    "svc = LinearSVC(max_iter=100000, random_state=123)\n",
    "rf = RandomForestClassifier(random_state=123)"
   ]
  },
  {
   "cell_type": "code",
   "execution_count": 318,
   "metadata": {
    "id": "a8MfexyAy9nJ"
   },
   "outputs": [],
   "source": [
    "X_train, X_test, y_train, y_test = train_test_split(X, y, test_size=0.2, random_state=123)\n",
    "X_train = preprocessor_scale.fit_transform(X_train)\n",
    "X_test = preprocessor_scale.transform(X_test)"
   ]
  },
  {
   "cell_type": "code",
   "execution_count": 319,
   "metadata": {
    "colab": {
     "base_uri": "https://localhost:8080/"
    },
    "id": "-Il25BT2pJs_",
    "outputId": "690fc1b4-ecf4-47ed-8e96-a93553cda85d"
   },
   "outputs": [
    {
     "data": {
      "text/plain": [
       "((800, 61), (200, 61))"
      ]
     },
     "execution_count": 319,
     "metadata": {},
     "output_type": "execute_result"
    }
   ],
   "source": [
    "X_train.shape, X_test.shape"
   ]
  },
  {
   "cell_type": "code",
   "execution_count": 320,
   "metadata": {
    "id": "bfzWJYN2qujj"
   },
   "outputs": [],
   "source": [
    "cv = KFold(n_splits=5, shuffle=True, random_state=123)"
   ]
  },
  {
   "cell_type": "markdown",
   "metadata": {
    "id": "YX9lRku4q2_L"
   },
   "source": [
    "### model eval with KFold"
   ]
  },
  {
   "cell_type": "code",
   "execution_count": 321,
   "metadata": {
    "colab": {
     "base_uri": "https://localhost:8080/"
    },
    "id": "iU4cuGTgfy4j",
    "outputId": "3151c04d-e690-47cf-8df4-4194c9b76d05"
   },
   "outputs": [
    {
     "data": {
      "text/plain": [
       "GridSearchCV(cv=KFold(n_splits=5, random_state=123, shuffle=True),\n",
       "             estimator=RandomForestClassifier(random_state=123),\n",
       "             param_grid={'n_estimators': range(10, 100, 4)})"
      ]
     },
     "execution_count": 321,
     "metadata": {},
     "output_type": "execute_result"
    }
   ],
   "source": [
    "param_grid_lr = {'C' : np.logspace(-3, 3, 30)}\n",
    "param_grid_svc = {'C' : np.logspace(-3, 3, 30)}\n",
    "param_grid_rf = {'n_estimators' : range(10, 100, 4)}\n",
    "\n",
    "grid_lr = GridSearchCV(lr, param_grid_lr, cv=cv)\n",
    "grid_lr.fit(X_train, y_train)\n",
    "\n",
    "grid_svc = GridSearchCV(svc, param_grid_svc, cv=cv)\n",
    "grid_svc.fit(X_train, y_train)\n",
    "\n",
    "grid_rf = GridSearchCV(rf, param_grid_rf, cv=cv)\n",
    "grid_rf.fit(X_train, y_train)"
   ]
  },
  {
   "cell_type": "code",
   "execution_count": 328,
   "metadata": {
    "colab": {
     "base_uri": "https://localhost:8080/"
    },
    "id": "bldg3cHv53k9",
    "outputId": "7d798450-38a0-4170-d63f-fe2e358a26a3"
   },
   "outputs": [
    {
     "name": "stdout",
     "output_type": "stream",
     "text": [
      "0.78 0.785 0.77\n",
      "{'C': 0.11721022975334805} {'C': 3.2903445623126677} {'n_estimators': 50}\n"
     ]
    }
   ],
   "source": [
    "# random state of split = 100, random state of shuffle = 100\n",
    "#0.745 0.76 0.785\n",
    "#{'C': 0.18873918221350977} {'C': 0.04520353656360243} {'n_estimators': 66}\n",
    "\n",
    "# random state of split = 123, random state of shuffle = 123\n",
    "print(grid_lr.score(X_test, y_test), grid_svc.score(X_test, y_test), grid_rf.score(X_test, y_test))\n",
    "print(grid_lr.best_params_, grid_svc.best_params_, grid_rf.best_params_)"
   ]
  },
  {
   "cell_type": "markdown",
   "metadata": {
    "id": "-KdXc_QZ6aws"
   },
   "source": [
    "동일한 조건 (random state of split = 100, random state of shuffle = 100)\n",
    "일때, stratified k-fold 와 kfold에서 best paramter의 값이 조금씩 다르다.\n",
    "\n",
    "k-fold에서, split과 shuffle의 random state값을 변화시켰을 때도, 결과가 다르게 나왔다."
   ]
  },
  {
   "cell_type": "markdown",
   "metadata": {
    "id": "SFr6JI9irz6Y"
   },
   "source": [
    "# **Q7**\n",
    "## Visualize the 20 most important coefficients for Logistic Regression and Linear Support Vector Machines using hyper-parameters that performed well in the grid-search."
   ]
  },
  {
   "cell_type": "code",
   "execution_count": 329,
   "metadata": {
    "colab": {
     "base_uri": "https://localhost:8080/"
    },
    "id": "y9AajND7sC22",
    "outputId": "29a2546f-1717-49ff-b192-0eca9f49fd65"
   },
   "outputs": [
    {
     "data": {
      "text/plain": [
       "({'C': 0.11721022975334805}, {'C': 3.2903445623126677}, {'n_estimators': 50})"
      ]
     },
     "execution_count": 329,
     "metadata": {},
     "output_type": "execute_result"
    }
   ],
   "source": [
    "hp_lr = grid_lr.best_params_\n",
    "hp_svc = grid_svc.best_params_\n",
    "hp_rf = grid_rf.best_params_\n",
    "hp_lr, hp_svc, hp_rf"
   ]
  },
  {
   "cell_type": "code",
   "execution_count": 330,
   "metadata": {
    "id": "ql0u9NxXsuEG"
   },
   "outputs": [],
   "source": [
    "lr_best = LogisticRegression(max_iter=1000, C=hp_lr['C'], random_state=123)\n",
    "svc_best = LinearSVC(max_iter=100000, C=hp_svc['C'], random_state=123)"
   ]
  },
  {
   "cell_type": "code",
   "execution_count": 331,
   "metadata": {
    "colab": {
     "base_uri": "https://localhost:8080/"
    },
    "id": "_g-n9kxcs83y",
    "outputId": "3b96e15d-1ee3-47f5-85c4-1f42ac40dbcf"
   },
   "outputs": [
    {
     "data": {
      "text/plain": [
       "LinearSVC(C=3.2903445623126677, max_iter=100000, random_state=123)"
      ]
     },
     "execution_count": 331,
     "metadata": {},
     "output_type": "execute_result"
    }
   ],
   "source": [
    "lr_best.fit(X_train, y_train)\n",
    "svc_best.fit(X_train, y_train)"
   ]
  },
  {
   "cell_type": "code",
   "execution_count": 332,
   "metadata": {
    "colab": {
     "base_uri": "https://localhost:8080/"
    },
    "id": "fJrZwHFhzVCV",
    "outputId": "43ee571f-f7e4-4a21-87da-dcc8f6434ae6"
   },
   "outputs": [
    {
     "name": "stdout",
     "output_type": "stream",
     "text": [
      "[0.75181104 0.55660263 0.50616055 0.39279728 0.30899973 0.24177243\n",
      " 0.23202264 0.22716276 0.22561624 0.21331933 0.20960711 0.19428543\n",
      " 0.17250031 0.15362319 0.14088707 0.12773886 0.11388542 0.10108739\n",
      " 0.09644722 0.0591367 ]\n",
      "[1.01001631 0.34423313 0.31897621 0.27863778 0.26954286 0.26632291\n",
      " 0.23306572 0.22568635 0.21891377 0.20437437 0.19139804 0.1595804\n",
      " 0.15654831 0.12549613 0.11526561 0.11052843 0.10571456 0.08982107\n",
      " 0.08878357 0.07883139]\n"
     ]
    }
   ],
   "source": [
    "lr_mi_coef_ = np.sort(lr_best.coef_[0])[::-1][:20]\n",
    "svc_mi_coef_ = np.sort(svc_best.coef_[0])[::-1][:20]\n",
    "print(lr_mi_coef_)\n",
    "print(svc_mi_coef_)"
   ]
  },
  {
   "cell_type": "code",
   "execution_count": 333,
   "metadata": {
    "colab": {
     "base_uri": "https://localhost:8080/",
     "height": 279
    },
    "id": "Xdr51Wo30mDY",
    "outputId": "0c15278f-9727-4532-a649-838c8720a110"
   },
   "outputs": [
    {
     "data": {
      "image/png": "[encoded data removed]",
      "text/plain": [
       "<Figure size 432x288 with 1 Axes>"
      ]
     },
     "metadata": {
      "needs_background": "light"
     },
     "output_type": "display_data"
    }
   ],
   "source": [
    "x_values = range(0, 20)\n",
    "plt.plot(x_values, lr_mi_coef_, marker='o')\n",
    "plt.plot(x_values, svc_mi_coef_, marker='o')\n",
    "plt.ylabel('coef')\n",
    "plt.xlabel('<- most important coef                         Least important coef ->')\n",
    "plt.legend(['lr', 'svc'])\n",
    "plt.show()"
   ]
  },
  {
   "cell_type": "markdown",
   "metadata": {
    "id": "gj1XZprP5i6j"
   },
   "source": [
    "# **Q8**\n",
    "## Using optimized models that performed well in the grid-search, compute the performance of all three models using confusion matrix, precision, recall, and F1-score. \n",
    "## How different are the results? Also, calculate the true positive rate and false positive rate for all three models. Discuss the results. "
   ]
  },
  {
   "cell_type": "code",
   "execution_count": 345,
   "metadata": {
    "colab": {
     "base_uri": "https://localhost:8080/"
    },
    "id": "8reqNblC-j-0",
    "outputId": "1f3527fb-844b-4727-d5f4-40e1d88c21b6"
   },
   "outputs": [
    {
     "name": "stdout",
     "output_type": "stream",
     "text": [
      "              precision    recall  f1-score   support\n",
      "\n",
      "         bad       0.66      0.57      0.61        61\n",
      "        good       0.82      0.87      0.85       139\n",
      "\n",
      "    accuracy                           0.78       200\n",
      "   macro avg       0.74      0.72      0.73       200\n",
      "weighted avg       0.77      0.78      0.78       200\n",
      "\n",
      "              precision    recall  f1-score   support\n",
      "\n",
      "         bad       0.66      0.61      0.63        61\n",
      "        good       0.83      0.86      0.85       139\n",
      "\n",
      "    accuracy                           0.79       200\n",
      "   macro avg       0.75      0.73      0.74       200\n",
      "weighted avg       0.78      0.79      0.78       200\n",
      "\n",
      "              precision    recall  f1-score   support\n",
      "\n",
      "         bad       0.68      0.46      0.55        61\n",
      "        good       0.79      0.91      0.85       139\n",
      "\n",
      "    accuracy                           0.77       200\n",
      "   macro avg       0.74      0.68      0.70       200\n",
      "weighted avg       0.76      0.77      0.76       200\n",
      "\n"
     ]
    }
   ],
   "source": [
    "y_pred1 = lr_best.predict(X_test)\n",
    "y_pred2 = svc_best.predict(X_test)\n",
    "y_pred3 = rf_best.predict(X_test)\n",
    "\n",
    "for y_pred in [y_pred1, y_pred2, y_pred3]:\n",
    "    print(classification_report(y_test, y_pred))"
   ]
  },
  {
   "cell_type": "markdown",
   "metadata": {
    "id": "8yM7szUPAYHB"
   },
   "source": [
    "lr와 svc 모델은 precision, recall 모두 비슷한 performance를 보이고 있다.\n",
    "rf 모델은 bad클래스를 recall하는데는 조금 성능이 낮지만, 오히려 good을 recall하는데는 다른 모델들보다 좋은 성능을 보이고 있다.\n",
    "즉, rf모델은 (good = positive) credit이 good인 사람을 발견하지 못할 확률이 적다고 말할 수 있다.\n",
    "\n",
    "good을 positive로 정하면, true positive rate 는 recall과 같다.\n",
    "즉, lr의 TPR = 0.87, svc의 TPR = 0.86, rf의 TPR = 0.91\n",
    "\n",
    "false positive rate (FPR) = 1 - true negative rate (TNR) 이다.\n",
    "TNR는 다시말하면 negative, 즉 bad의 recall능력과 같다.\n",
    "따라서, lr의 FPR = 1 - 0.57 = 0.43, 같은 방법으로 svc의 FPR = 0.39, rf의 FPR = 0.54 이다."
   ]
  },
  {
   "cell_type": "markdown",
   "metadata": {
    "id": "t1uZvwGbDAI_"
   },
   "source": [
    "# **Q9**\n",
    "## Plot precision-recall (PR) curve and receiver operating characteristics (ROC) curve for all three models. \n",
    "## Also, compute the performance of all three models using average precision and area under the curve (AUC). Discuss the results."
   ]
  },
  {
   "cell_type": "code",
   "execution_count": 344,
   "metadata": {
    "colab": {
     "base_uri": "https://localhost:8080/"
    },
    "id": "xDPAmMZeD7y_",
    "outputId": "848814bf-60e9-48b3-821f-284b4ebc9dce"
   },
   "outputs": [
    {
     "data": {
      "text/plain": [
       "RandomForestClassifier(n_estimators=50, random_state=123)"
      ]
     },
     "execution_count": 344,
     "metadata": {},
     "output_type": "execute_result"
    }
   ],
   "source": [
    "rf_best = RandomForestClassifier(n_estimators=hp_rf['n_estimators'], random_state=123)\n",
    "rf_best.fit(X_train, y_train)"
   ]
  },
  {
   "cell_type": "markdown",
   "metadata": {
    "id": "aKG3q0FgI1DM"
   },
   "source": [
    "### Precision-Recall"
   ]
  },
  {
   "cell_type": "code",
   "execution_count": 374,
   "metadata": {
    "colab": {
     "base_uri": "https://localhost:8080/",
     "height": 279
    },
    "id": "88r6aptPJyfu",
    "outputId": "e2f587ce-3bcd-4596-f52c-b884c8f412ad"
   },
   "outputs": [
    {
     "data": {
      "image/png": "[encoded data removed]",
      "text/plain": [
       "<Figure size 432x288 with 1 Axes>"
      ]
     },
     "metadata": {
      "needs_background": "light"
     },
     "output_type": "display_data"
    }
   ],
   "source": [
    "pr_lr = plot_precision_recall_curve(lr_best, X_test, y_test, name='lr')\n",
    "p_lr , r_lr, _, _ = precision_recall_fscore_support(lr_best.predict(X_test), y_test)\n",
    "\n",
    "plt.plot(p_lr, r_lr, 'X', markersize=10, label='threshold zero', fillstyle='none', c='k', mew=2)\n",
    "plt.show()"
   ]
  },
  {
   "cell_type": "code",
   "execution_count": 375,
   "metadata": {
    "colab": {
     "base_uri": "https://localhost:8080/",
     "height": 279
    },
    "id": "JfD8-MHXDKzt",
    "outputId": "6da05949-fae6-44cb-d144-e84b4220797c"
   },
   "outputs": [
    {
     "data": {
      "image/png": "[encoded data removed]",
      "text/plain": [
       "<Figure size 432x288 with 1 Axes>"
      ]
     },
     "metadata": {
      "needs_background": "light"
     },
     "output_type": "display_data"
    }
   ],
   "source": [
    "pr_svc = plot_precision_recall_curve(svc_best, X_test, y_test, name='SVC')\n",
    "p_svc, r_svc, _, _ = precision_recall_fscore_support(svc_best.predict(X_test), y_test)\n",
    "\n",
    "plt.plot(p_svc, r_svc, '^', markersize=10, label=\"threshold zero\", fillstyle=\"none\", c='k', mew=2)\n",
    "plt.show()"
   ]
  },
  {
   "cell_type": "code",
   "execution_count": 376,
   "metadata": {
    "colab": {
     "base_uri": "https://localhost:8080/",
     "height": 297
    },
    "id": "ITcm2Y7LIPZC",
    "outputId": "6f5f133a-e0b1-49af-a9b6-dc1ca64686a6"
   },
   "outputs": [
    {
     "data": {
      "text/plain": [
       "<matplotlib.legend.Legend at 0x7f21bdff7cd0>"
      ]
     },
     "execution_count": 376,
     "metadata": {},
     "output_type": "execute_result"
    },
    {
     "data": {
      "image/png": "[encoded data removed]",
      "text/plain": [
       "<Figure size 432x288 with 1 Axes>"
      ]
     },
     "metadata": {
      "needs_background": "light"
     },
     "output_type": "display_data"
    }
   ],
   "source": [
    "pr_rf = plot_precision_recall_curve(rf_best, X_test, y_test, name='rf')\n",
    "p_rf , r_rf, _, _ = precision_recall_fscore_support(rf_best.predict(X_test), y_test)\n",
    "plt.plot(p_rf, r_rf, 'X', markersize=10, label='threshold .5', fillstyle='none', c='k', mew=2)\n",
    "plt.legend()"
   ]
  },
  {
   "cell_type": "markdown",
   "metadata": {
    "id": "A1I1ChpNMoSt"
   },
   "source": [
    "### ROC curve"
   ]
  },
  {
   "cell_type": "code",
   "execution_count": 380,
   "metadata": {
    "colab": {
     "base_uri": "https://localhost:8080/",
     "height": 297
    },
    "id": "tCz2HhvNL8zO",
    "outputId": "877228bc-6741-43cc-f7f2-bab39eb56b5e"
   },
   "outputs": [
    {
     "data": {
      "text/plain": [
       "[<matplotlib.lines.Line2D at 0x7f21bdedf590>]"
      ]
     },
     "execution_count": 380,
     "metadata": {},
     "output_type": "execute_result"
    },
    {
     "data": {
      "image/png": "[encoded data removed]",
      "text/plain": [
       "<Figure size 432x288 with 1 Axes>"
      ]
     },
     "metadata": {
      "needs_background": "light"
     },
     "output_type": "display_data"
    }
   ],
   "source": [
    "confusion_lr = confusion_matrix(y_test, lr_best.predict(X_test), normalize='true')\n",
    "confusion_svc = confusion_matrix(y_test, svc_best.predict(X_test), normalize='true')\n",
    "confusion_rf = confusion_matrix(y_test, rf_best.predict(X_test), normalize='true')\n",
    "\n",
    "plot_roc_curve(lr_best, X_test, y_test, name='lr')\n",
    "plot_roc_curve(svc_best, X_test, y_test, ax=plt.gca())\n",
    "plot_roc_curve(rf_best, X_test, y_test, ax=plt.gca())\n",
    "\n",
    "plt.plot(confusion_lr[0, 1], confusion_lr[1, 1], 'X', markersize=10,\n",
    "         label=\"threshold zero SVC\", fillstyle=\"none\", c='k', mew=2)\n",
    "plt.plot(confusion_svc[0, 1], confusion_svc[1, 1], 'o', markersize=10,\n",
    "         label=\"threshold zero SVC\", fillstyle=\"none\", c='k', mew=2)\n",
    "plt.plot(confusion_rf[0, 1], confusion_rf[1, 1], '^', markersize=10,\n",
    "         label=\"threshold 0.5 RF\", fillstyle=\"none\", c='k', mew=2)"
   ]
  },
  {
   "cell_type": "markdown",
   "metadata": {
    "id": "w7NxSDGhNAU6"
   },
   "source": [
    "### Avg precision"
   ]
  },
  {
   "cell_type": "code",
   "execution_count": 405,
   "metadata": {
    "id": "1_w_Cqh-QkL_"
   },
   "outputs": [],
   "source": [
    "y_test_bin = [1 if elem == 'good' else 0 for elem in y_test]\n",
    "lr_best_pred_bin = [1 if elem == 'good' else 0 for elem in lr_best.predict(X_test)]\n",
    "rf_best_pred_bin = [1 if elem == 'good' else 0 for elem in rf_best.predict(X_test)]"
   ]
  },
  {
   "cell_type": "code",
   "execution_count": 406,
   "metadata": {
    "colab": {
     "base_uri": "https://localhost:8080/"
    },
    "id": "MhDW6I3uNByH",
    "outputId": "6af29a57-0b6c-4843-dde9-415f345c36c2"
   },
   "outputs": [
    {
     "name": "stdout",
     "output_type": "stream",
     "text": [
      "Average precision of lr: 0.807\n",
      "Average precision of random forest: 0.783\n",
      "Average precision of svc: 0.913\n"
     ]
    }
   ],
   "source": [
    "from sklearn.metrics import average_precision_score\n",
    "ap_lr = average_precision_score(y_test_bin, lr_best_pred_bin)\n",
    "ap_rf = average_precision_score(y_test_bin, rf_best_pred_bin)\n",
    "ap_svc = average_precision_score(y_test_bin, svc_best.decision_function(X_test))\n",
    "print(\"Average precision of lr: {:.3f}\".format(ap_lr))\n",
    "print(\"Average precision of random forest: {:.3f}\".format(ap_rf))\n",
    "print(\"Average precision of svc: {:.3f}\".format(ap_svc))"
   ]
  },
  {
   "cell_type": "markdown",
   "metadata": {
    "id": "iVgvMkAYS70Q"
   },
   "source": [
    "### AUC"
   ]
  },
  {
   "cell_type": "code",
   "execution_count": 410,
   "metadata": {
    "colab": {
     "base_uri": "https://localhost:8080/"
    },
    "id": "38aZk81vS9s1",
    "outputId": "9d6a0181-96f0-467e-9832-6be74428c2e5"
   },
   "outputs": [
    {
     "data": {
      "text/plain": [
       "CalibratedClassifierCV(base_estimator=LinearSVC(C=3.2903445623126677,\n",
       "                                                max_iter=100000,\n",
       "                                                random_state=123))"
      ]
     },
     "execution_count": 410,
     "metadata": {},
     "output_type": "execute_result"
    }
   ],
   "source": [
    "# linearSVC모델은 predict_proba를 제공하지 않음.\n",
    "from sklearn.calibration import CalibratedClassifierCV\n",
    "\n",
    "clf = CalibratedClassifierCV(svc_best)\n",
    "clf.fit(X_train, y_train)"
   ]
  },
  {
   "cell_type": "code",
   "execution_count": 411,
   "metadata": {
    "colab": {
     "base_uri": "https://localhost:8080/"
    },
    "id": "MP2nZvUfR0Rv",
    "outputId": "3782a796-80fe-4aa4-ab0e-67e2036aad18"
   },
   "outputs": [
    {
     "name": "stdout",
     "output_type": "stream",
     "text": [
      "lr의 ROC AUC 값: 0.8345\n",
      "svc의 ROC AUC 값: 0.8273\n",
      "rf의 ROC AUC 값: 0.8502\n"
     ]
    }
   ],
   "source": [
    "from sklearn.metrics import roc_auc_score\n",
    "\n",
    "lr_pred_proba = lr_best.predict_proba(X_test)[:, 1]\n",
    "lr_roc_score = roc_auc_score(y_test, lr_pred_proba)\n",
    "\n",
    "svc_pred_proba = clf.predict_proba(X_test)[:, 1]\n",
    "svc_roc_score = roc_auc_score(y_test, svc_pred_proba)\n",
    "\n",
    "rf_pred_proba = rf_best.predict_proba(X_test)[:, 1]\n",
    "rf_roc_score = roc_auc_score(y_test, rf_pred_proba)\n",
    "\n",
    "print('lr의 ROC AUC 값: {0:.4f}'.format(lr_roc_score))\n",
    "print('svc의 ROC AUC 값: {0:.4f}'.format(svc_roc_score))\n",
    "print('rf의 ROC AUC 값: {0:.4f}'.format(rf_roc_score))"
   ]
  },
  {
   "cell_type": "markdown",
   "metadata": {
    "id": "-knu0RRVTbv9"
   },
   "source": [
    "AUC는 ROC곡선의 밑넓이이고, ROC곡선은 X축은 FPR, y축은 TPR이다.\n",
    "TPR값이 크다는 것은, 전체 positive중 positive로 예측된 샘플의 비율이 높다는 것이고, 즉 모델의 예측성능이 좋다는 것이다.\n",
    "\n",
    "반대로 FPR는 전체 negative 샘플중 positive로 잘못 예측된 샘플의 비율이므로, 낮을수록 좋다.\n",
    "\n",
    "따라서, FPR값이 감소할때, TPR값이 적게 감소한다면 해당 모델은 좋은 분류성능을 가졌다고 생각할 수 있다.\n",
    "\n",
    "그러므로, AUC값이 1에 가까울수록, FPR값의 감소에도 TPR이 거의 감소하지 않는다는 것이고 결국 모델의 성능이 좋다는것을 의미한다.\n",
    "\n",
    "따라서, AUC값이 큰 순서대로 random forest, logistic regression, linearSVC의 순서대로 이진 분류 성능이 좋다고 볼 수 있다."
   ]
  }
 ],
 "metadata": {
  "colab": {
   "collapsed_sections": [
    "Tmko6UokZM07",
    "KPEczJKK_xKA",
    "Dbkhq4LwGigC",
    "VLovkR6WyZqa",
    "8bM3PAmXNDg5",
    "EAHP-k1EfVcO",
    "SFr6JI9irz6Y",
    "gj1XZprP5i6j"
   ],
   "name": "HW04.ipynb",
   "provenance": []
  },
  "kernelspec": {
   "display_name": "Python 3",
   "language": "python",
   "name": "python3"
  },
  "language_info": {
   "codemirror_mode": {
    "name": "ipython",
    "version": 3
   },
   "file_extension": ".py",
   "mimetype": "text/x-python",
   "name": "python",
   "nbconvert_exporter": "python",
   "pygments_lexer": "ipython3",
   "version": "3.7.6"
  }
 },
 "nbformat": 4,
 "nbformat_minor": 1
}
